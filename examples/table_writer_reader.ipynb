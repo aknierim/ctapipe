{
 "cells": [
  {
   "cell_type": "markdown",
   "metadata": {},
   "source": [
    "# Writing Containers to a tabular format\n",
    "\n",
    "The `TableWriter`/`TableReader` sub-classes allow you to write a `ctapipe.core.Container` class and its meta-data to an output table. They treat the `Field`s in the `Container` as columns in the output, and automatically generate a schema.  Here we will go through an example of writing out data and reading it back with *Pandas*, *PyTables*, and a `ctapipe.io.TableReader`:\n",
    "\n",
    "In this example, we will use the `HDF5TableWriter`, which writes to HDF5 datasets using *PyTables*. Currently this is the only implemented TableWriter."
   ]
  },
  {
   "cell_type": "markdown",
   "metadata": {},
   "source": [
    "Caveats to think about:\n",
    "* vector columns in Containers *can* be written, but some lilbraries like Pandas can not read those (so you must use pytables or astropy to read outputs that have vector columns)\n",
    "* units are stored in the table metadata, but some libraries like Pandas ignore them and all other metadata"
   ]
  },
  {
   "cell_type": "markdown",
   "metadata": {},
   "source": [
    "## Create some example Containers"
   ]
  },
  {
   "cell_type": "code",
   "execution_count": 1,
   "metadata": {
    "execution": {
     "iopub.execute_input": "2022-04-22T10:15:14.747304Z",
     "iopub.status.busy": "2022-04-22T10:15:14.746801Z",
     "iopub.status.idle": "2022-04-22T10:15:19.317252Z",
     "shell.execute_reply": "2022-04-22T10:15:19.316317Z"
    }
   },
   "outputs": [],
   "source": [
    "from ctapipe.io import HDF5TableWriter\n",
    "from ctapipe.core import Container, Field\n",
    "from astropy import units as u\n",
    "import numpy as np"
   ]
  },
  {
   "cell_type": "code",
   "execution_count": 2,
   "metadata": {
    "execution": {
     "iopub.execute_input": "2022-04-22T10:15:19.321593Z",
     "iopub.status.busy": "2022-04-22T10:15:19.320908Z",
     "iopub.status.idle": "2022-04-22T10:15:19.326328Z",
     "shell.execute_reply": "2022-04-22T10:15:19.325611Z"
    }
   },
   "outputs": [],
   "source": [
    "class VariousTypesContainer(Container):\n",
    "    \n",
    "    a_int = Field(int, 'some int value')\n",
    "    a_float = Field(float, 'some float value with a unit', unit=u.m)\n",
    "    a_bool = Field(bool, 'some bool value')\n",
    "    a_np_int = Field(np.int64, 'a numpy int')\n",
    "    a_np_float = Field(np.float64, 'a numpy float')\n",
    "    a_np_bool = Field(np.bool_, 'np.bool')"
   ]
  },
  {
   "cell_type": "markdown",
   "metadata": {},
   "source": [
    "let's also make a dummy stream (generator) that will create a series of these containers"
   ]
  },
  {
   "cell_type": "code",
   "execution_count": 3,
   "metadata": {
    "execution": {
     "iopub.execute_input": "2022-04-22T10:15:19.329566Z",
     "iopub.status.busy": "2022-04-22T10:15:19.329354Z",
     "iopub.status.idle": "2022-04-22T10:15:19.334604Z",
     "shell.execute_reply": "2022-04-22T10:15:19.334025Z"
    }
   },
   "outputs": [],
   "source": [
    "def create_stream(n_event):\n",
    "    \n",
    "    data = VariousTypesContainer()\n",
    "    for i in range(n_event):\n",
    "        \n",
    "        data.a_int = int(i)\n",
    "        data.a_float = float(i) * u.cm # note unit conversion will happen\n",
    "        data.a_bool = (i % 2) == 0\n",
    "        data.a_np_int = np.int64(i)\n",
    "        data.a_np_float = np.float64(i)\n",
    "        data.a_np_bool = np.bool((i % 2) == 0)\n",
    "        \n",
    "        yield data"
   ]
  },
  {
   "cell_type": "code",
   "execution_count": 4,
   "metadata": {
    "execution": {
     "iopub.execute_input": "2022-04-22T10:15:19.337979Z",
     "iopub.status.busy": "2022-04-22T10:15:19.337614Z",
     "iopub.status.idle": "2022-04-22T10:15:19.343436Z",
     "shell.execute_reply": "2022-04-22T10:15:19.342631Z"
    }
   },
   "outputs": [
    {
     "name": "stdout",
     "output_type": "stream",
     "text": [
      "a_int: 0, type : <class 'int'>\n",
      "a_float: 0.0 cm, type : <class 'astropy.units.quantity.Quantity'>\n",
      "a_bool: True, type : <class 'bool'>\n",
      "a_np_int: 0, type : <class 'numpy.int64'>\n",
      "a_np_float: 0.0, type : <class 'numpy.float64'>\n",
      "a_np_bool: True, type : <class 'bool'>\n",
      "a_int: 1, type : <class 'int'>\n",
      "a_float: 1.0 cm, type : <class 'astropy.units.quantity.Quantity'>\n",
      "a_bool: False, type : <class 'bool'>\n",
      "a_np_int: 1, type : <class 'numpy.int64'>\n",
      "a_np_float: 1.0, type : <class 'numpy.float64'>\n",
      "a_np_bool: False, type : <class 'bool'>\n"
     ]
    },
    {
     "name": "stderr",
     "output_type": "stream",
     "text": [
      "/tmp/ipykernel_4304/3018134255.py:11: DeprecationWarning: `np.bool` is a deprecated alias for the builtin `bool`. To silence this warning, use `bool` by itself. Doing this will not modify any behavior and is safe. If you specifically wanted the numpy scalar type, use `np.bool_` here.\n",
      "Deprecated in NumPy 1.20; for more details and guidance: https://numpy.org/devdocs/release/1.20.0-notes.html#deprecations\n",
      "  data.a_np_bool = np.bool((i % 2) == 0)\n"
     ]
    }
   ],
   "source": [
    "for data in create_stream(2):\n",
    "        \n",
    "    for key, val in data.items():\n",
    "        \n",
    "        print('{}: {}, type : {}'.format(key, val, type(val)))"
   ]
  },
  {
   "cell_type": "markdown",
   "metadata": {},
   "source": [
    "## Writing the Data (and good practices)"
   ]
  },
  {
   "cell_type": "markdown",
   "metadata": {},
   "source": [
    "### How not to do it:"
   ]
  },
  {
   "cell_type": "code",
   "execution_count": 5,
   "metadata": {
    "execution": {
     "iopub.execute_input": "2022-04-22T10:15:19.349872Z",
     "iopub.status.busy": "2022-04-22T10:15:19.349672Z",
     "iopub.status.idle": "2022-04-22T10:15:19.369486Z",
     "shell.execute_reply": "2022-04-22T10:15:19.368692Z"
    }
   },
   "outputs": [
    {
     "name": "stderr",
     "output_type": "stream",
     "text": [
      "/tmp/ipykernel_4304/3018134255.py:11: DeprecationWarning: `np.bool` is a deprecated alias for the builtin `bool`. To silence this warning, use `bool` by itself. Doing this will not modify any behavior and is safe. If you specifically wanted the numpy scalar type, use `np.bool_` here.\n",
      "Deprecated in NumPy 1.20; for more details and guidance: https://numpy.org/devdocs/release/1.20.0-notes.html#deprecations\n",
      "  data.a_np_bool = np.bool((i % 2) == 0)\n"
     ]
    }
   ],
   "source": [
    "h5_table = HDF5TableWriter('container.h5', group_name='data')\n",
    "\n",
    "for data in create_stream(10):\n",
    "    \n",
    "    h5_table.write('table', data)\n",
    "\n",
    "h5_table.close()"
   ]
  },
  {
   "cell_type": "markdown",
   "metadata": {},
   "source": [
    "In that case the file is not garenteed to close properly for instance if one does a mistake in the for loop. Let's just add a stupid mistake and see what happens."
   ]
  },
  {
   "cell_type": "code",
   "execution_count": 6,
   "metadata": {
    "execution": {
     "iopub.execute_input": "2022-04-22T10:15:19.373376Z",
     "iopub.status.busy": "2022-04-22T10:15:19.373147Z",
     "iopub.status.idle": "2022-04-22T10:15:19.384890Z",
     "shell.execute_reply": "2022-04-22T10:15:19.384115Z"
    }
   },
   "outputs": [
    {
     "name": "stdout",
     "output_type": "stream",
     "text": [
      "FAILED! division by zero\n"
     ]
    },
    {
     "name": "stderr",
     "output_type": "stream",
     "text": [
      "/tmp/ipykernel_4304/3018134255.py:11: DeprecationWarning: `np.bool` is a deprecated alias for the builtin `bool`. To silence this warning, use `bool` by itself. Doing this will not modify any behavior and is safe. If you specifically wanted the numpy scalar type, use `np.bool_` here.\n",
      "Deprecated in NumPy 1.20; for more details and guidance: https://numpy.org/devdocs/release/1.20.0-notes.html#deprecations\n",
      "  data.a_np_bool = np.bool((i % 2) == 0)\n"
     ]
    }
   ],
   "source": [
    "try:\n",
    "    h5_table = HDF5TableWriter('container.h5', group_name='data')\n",
    "\n",
    "    for data in create_stream(10):\n",
    "\n",
    "        h5_table.write('table', data)\n",
    "        0/0  # cause an error\n",
    "        \n",
    "    h5_table.close()\n",
    "except Exception as err:\n",
    "    print(\"FAILED!\", err)"
   ]
  },
  {
   "cell_type": "markdown",
   "metadata": {},
   "source": [
    "Now the file did not close properly. So let's try to correct the mistake and execute the code again."
   ]
  },
  {
   "cell_type": "code",
   "execution_count": 7,
   "metadata": {
    "execution": {
     "iopub.execute_input": "2022-04-22T10:15:19.389120Z",
     "iopub.status.busy": "2022-04-22T10:15:19.388901Z",
     "iopub.status.idle": "2022-04-22T10:15:19.394454Z",
     "shell.execute_reply": "2022-04-22T10:15:19.393707Z"
    }
   },
   "outputs": [
    {
     "name": "stdout",
     "output_type": "stream",
     "text": [
      "FAILED! The file 'container.h5' is already opened.  Please close it before reopening in write mode.\n"
     ]
    }
   ],
   "source": [
    "try:\n",
    "    h5_table = HDF5TableWriter('container.h5', group_name='data')\n",
    "\n",
    "    for data in create_stream(10):\n",
    "\n",
    "        h5_table.write('table', data)\n",
    "        0/0  # cause an error\n",
    "    h5_table.close()\n",
    "except Exception as err:\n",
    "    print(\"FAILED!\", err)"
   ]
  },
  {
   "cell_type": "markdown",
   "metadata": {},
   "source": [
    "Ah it seems that the file did not close! Now I am stuck. Maybe I should restart the kernel? ahh no I don't want to loose everything. Can I just close it ?"
   ]
  },
  {
   "cell_type": "code",
   "execution_count": 8,
   "metadata": {
    "execution": {
     "iopub.execute_input": "2022-04-22T10:15:19.398762Z",
     "iopub.status.busy": "2022-04-22T10:15:19.398531Z",
     "iopub.status.idle": "2022-04-22T10:15:19.403611Z",
     "shell.execute_reply": "2022-04-22T10:15:19.402874Z"
    }
   },
   "outputs": [],
   "source": [
    "h5_table.close()"
   ]
  },
  {
   "cell_type": "markdown",
   "metadata": {},
   "source": [
    "It worked!"
   ]
  },
  {
   "cell_type": "markdown",
   "metadata": {},
   "source": [
    "### Better to use context management!"
   ]
  },
  {
   "cell_type": "code",
   "execution_count": 9,
   "metadata": {
    "execution": {
     "iopub.execute_input": "2022-04-22T10:15:19.407067Z",
     "iopub.status.busy": "2022-04-22T10:15:19.406696Z",
     "iopub.status.idle": "2022-04-22T10:15:19.418916Z",
     "shell.execute_reply": "2022-04-22T10:15:19.418261Z"
    }
   },
   "outputs": [
    {
     "name": "stdout",
     "output_type": "stream",
     "text": [
      "FAILED: division by zero\n",
      "Done\n"
     ]
    },
    {
     "name": "stderr",
     "output_type": "stream",
     "text": [
      "/tmp/ipykernel_4304/3018134255.py:11: DeprecationWarning: `np.bool` is a deprecated alias for the builtin `bool`. To silence this warning, use `bool` by itself. Doing this will not modify any behavior and is safe. If you specifically wanted the numpy scalar type, use `np.bool_` here.\n",
      "Deprecated in NumPy 1.20; for more details and guidance: https://numpy.org/devdocs/release/1.20.0-notes.html#deprecations\n",
      "  data.a_np_bool = np.bool((i % 2) == 0)\n"
     ]
    }
   ],
   "source": [
    "try:\n",
    "    with HDF5TableWriter('container.h5', group_name='data') as h5_table:\n",
    "\n",
    "        for data in create_stream(10):\n",
    "\n",
    "            h5_table.write('table', data)\n",
    "            0/0\n",
    "except Exception as err:\n",
    "    print(\"FAILED:\", err)\n",
    "print('Done')"
   ]
  },
  {
   "cell_type": "code",
   "execution_count": 10,
   "metadata": {
    "execution": {
     "iopub.execute_input": "2022-04-22T10:15:19.422684Z",
     "iopub.status.busy": "2022-04-22T10:15:19.422044Z",
     "iopub.status.idle": "2022-04-22T10:15:19.581367Z",
     "shell.execute_reply": "2022-04-22T10:15:19.580404Z"
    }
   },
   "outputs": [
    {
     "name": "stdout",
     "output_type": "stream",
     "text": [
      "container.h5\r\n"
     ]
    }
   ],
   "source": [
    "!ls container.h5"
   ]
  },
  {
   "cell_type": "markdown",
   "metadata": {},
   "source": [
    "## Appending new Containers"
   ]
  },
  {
   "cell_type": "markdown",
   "metadata": {},
   "source": [
    "To append some new containers we need to set the writing in append mode by using: 'mode=a'. But let's now first look at what happens if we don't."
   ]
  },
  {
   "cell_type": "code",
   "execution_count": 11,
   "metadata": {
    "execution": {
     "iopub.execute_input": "2022-04-22T10:15:19.585595Z",
     "iopub.status.busy": "2022-04-22T10:15:19.585354Z",
     "iopub.status.idle": "2022-04-22T10:15:19.610977Z",
     "shell.execute_reply": "2022-04-22T10:15:19.609201Z"
    }
   },
   "outputs": [
    {
     "name": "stdout",
     "output_type": "stream",
     "text": [
      "container.h5 (File) ''\n",
      "Last modif.: '2022-04-22T10:15:19+00:00'\n",
      "Object Tree: \n",
      "/ (RootGroup) ''\n",
      "/data_0 (Group) ''\n",
      "/data_0/table (Table(0,)fletcher32, shuffle, blosc:zstd(5)) 'Storage of VariousTypesContainer'\n",
      "\n",
      "container.h5 (File) ''\n",
      "Last modif.: '2022-04-22T10:15:19+00:00'\n",
      "Object Tree: \n",
      "/ (RootGroup) ''\n",
      "/data_1 (Group) ''\n",
      "/data_1/table (Table(0,)fletcher32, shuffle, blosc:zstd(5)) 'Storage of VariousTypesContainer'\n",
      "\n"
     ]
    },
    {
     "name": "stderr",
     "output_type": "stream",
     "text": [
      "/tmp/ipykernel_4304/3018134255.py:11: DeprecationWarning: `np.bool` is a deprecated alias for the builtin `bool`. To silence this warning, use `bool` by itself. Doing this will not modify any behavior and is safe. If you specifically wanted the numpy scalar type, use `np.bool_` here.\n",
      "Deprecated in NumPy 1.20; for more details and guidance: https://numpy.org/devdocs/release/1.20.0-notes.html#deprecations\n",
      "  data.a_np_bool = np.bool((i % 2) == 0)\n",
      "/tmp/ipykernel_4304/3018134255.py:11: DeprecationWarning: `np.bool` is a deprecated alias for the builtin `bool`. To silence this warning, use `bool` by itself. Doing this will not modify any behavior and is safe. If you specifically wanted the numpy scalar type, use `np.bool_` here.\n",
      "Deprecated in NumPy 1.20; for more details and guidance: https://numpy.org/devdocs/release/1.20.0-notes.html#deprecations\n",
      "  data.a_np_bool = np.bool((i % 2) == 0)\n"
     ]
    }
   ],
   "source": [
    "for i in range(2):\n",
    "\n",
    "    with HDF5TableWriter('container.h5', mode='w', group_name='data_{}'.format(i)) as h5_table:\n",
    "    \n",
    "        for data in create_stream(10):\n",
    "    \n",
    "            h5_table.write('table', data)\n",
    "\n",
    "        print(h5_table.h5file)"
   ]
  },
  {
   "cell_type": "code",
   "execution_count": 12,
   "metadata": {
    "execution": {
     "iopub.execute_input": "2022-04-22T10:15:19.614449Z",
     "iopub.status.busy": "2022-04-22T10:15:19.614212Z",
     "iopub.status.idle": "2022-04-22T10:15:19.771398Z",
     "shell.execute_reply": "2022-04-22T10:15:19.770352Z"
    }
   },
   "outputs": [],
   "source": [
    "!rm -f container.h5"
   ]
  },
  {
   "cell_type": "markdown",
   "metadata": {},
   "source": [
    "Ok so the writer destroyed the content of the file each time it opens the file. Now let's try to append some data group to it! (using mode='a')"
   ]
  },
  {
   "cell_type": "code",
   "execution_count": 13,
   "metadata": {
    "execution": {
     "iopub.execute_input": "2022-04-22T10:15:19.776625Z",
     "iopub.status.busy": "2022-04-22T10:15:19.776360Z",
     "iopub.status.idle": "2022-04-22T10:15:19.806968Z",
     "shell.execute_reply": "2022-04-22T10:15:19.806136Z"
    }
   },
   "outputs": [
    {
     "name": "stderr",
     "output_type": "stream",
     "text": [
      "/tmp/ipykernel_4304/3018134255.py:11: DeprecationWarning: `np.bool` is a deprecated alias for the builtin `bool`. To silence this warning, use `bool` by itself. Doing this will not modify any behavior and is safe. If you specifically wanted the numpy scalar type, use `np.bool_` here.\n",
      "Deprecated in NumPy 1.20; for more details and guidance: https://numpy.org/devdocs/release/1.20.0-notes.html#deprecations\n",
      "  data.a_np_bool = np.bool((i % 2) == 0)\n",
      "/tmp/ipykernel_4304/3018134255.py:11: DeprecationWarning: `np.bool` is a deprecated alias for the builtin `bool`. To silence this warning, use `bool` by itself. Doing this will not modify any behavior and is safe. If you specifically wanted the numpy scalar type, use `np.bool_` here.\n",
      "Deprecated in NumPy 1.20; for more details and guidance: https://numpy.org/devdocs/release/1.20.0-notes.html#deprecations\n",
      "  data.a_np_bool = np.bool((i % 2) == 0)\n"
     ]
    },
    {
     "name": "stdout",
     "output_type": "stream",
     "text": [
      "container.h5 (File) ''\n",
      "Last modif.: '2022-04-22T10:15:19+00:00'\n",
      "Object Tree: \n",
      "/ (RootGroup) ''\n",
      "/data_0 (Group) ''\n",
      "/data_0/table (Table(0,)fletcher32, shuffle, blosc:zstd(5)) 'Storage of VariousTypesContainer'\n",
      "\n",
      "container.h5 (File) ''\n",
      "Last modif.: '2022-04-22T10:15:19+00:00'\n",
      "Object Tree: \n",
      "/ (RootGroup) ''\n",
      "/data_0 (Group) ''\n",
      "/data_0/table (Table(10,)fletcher32, shuffle, blosc:zstd(5)) 'Storage of VariousTypesContainer'\n",
      "/data_1 (Group) ''\n",
      "/data_1/table (Table(0,)fletcher32, shuffle, blosc:zstd(5)) 'Storage of VariousTypesContainer'\n",
      "\n"
     ]
    }
   ],
   "source": [
    "for i in range(2):\n",
    "\n",
    "    with HDF5TableWriter('container.h5', mode='a', group_name='data_{}'.format(i)) as h5_table:\n",
    "    \n",
    "        for data in create_stream(10):\n",
    "    \n",
    "            h5_table.write('table', data)\n",
    "\n",
    "        print(h5_table.h5file)"
   ]
  },
  {
   "cell_type": "markdown",
   "metadata": {},
   "source": [
    "So we can append some data groups. As long as the data group_name does not already exists. Let's try to overwrite the data group : data_1"
   ]
  },
  {
   "cell_type": "code",
   "execution_count": 14,
   "metadata": {
    "execution": {
     "iopub.execute_input": "2022-04-22T10:15:19.810595Z",
     "iopub.status.busy": "2022-04-22T10:15:19.810371Z",
     "iopub.status.idle": "2022-04-22T10:15:19.822387Z",
     "shell.execute_reply": "2022-04-22T10:15:19.821735Z"
    }
   },
   "outputs": [
    {
     "name": "stderr",
     "output_type": "stream",
     "text": [
      "/tmp/ipykernel_4304/3018134255.py:11: DeprecationWarning: `np.bool` is a deprecated alias for the builtin `bool`. To silence this warning, use `bool` by itself. Doing this will not modify any behavior and is safe. If you specifically wanted the numpy scalar type, use `np.bool_` here.\n",
      "Deprecated in NumPy 1.20; for more details and guidance: https://numpy.org/devdocs/release/1.20.0-notes.html#deprecations\n",
      "  data.a_np_bool = np.bool((i % 2) == 0)\n"
     ]
    }
   ],
   "source": [
    "try:\n",
    "    with HDF5TableWriter('container.h5', mode='a', group_name='data_1') as h5_table:\n",
    "        for data in create_stream(10):\n",
    "            h5_table.write('table', data)\n",
    "except Exception as err:\n",
    "    print(\"Failed as expected:\", err)"
   ]
  },
  {
   "cell_type": "markdown",
   "metadata": {},
   "source": [
    "Good ! I cannot overwrite my data."
   ]
  },
  {
   "cell_type": "code",
   "execution_count": 15,
   "metadata": {
    "execution": {
     "iopub.execute_input": "2022-04-22T10:15:19.826027Z",
     "iopub.status.busy": "2022-04-22T10:15:19.825664Z",
     "iopub.status.idle": "2022-04-22T10:15:19.830139Z",
     "shell.execute_reply": "2022-04-22T10:15:19.829495Z"
    }
   },
   "outputs": [
    {
     "name": "stdout",
     "output_type": "stream",
     "text": [
      "False\n"
     ]
    }
   ],
   "source": [
    "print(bool(h5_table.h5file.isopen))"
   ]
  },
  {
   "cell_type": "markdown",
   "metadata": {},
   "source": [
    "## Reading the Data"
   ]
  },
  {
   "cell_type": "markdown",
   "metadata": {},
   "source": [
    "### Reading the whole table at once:\n",
    "\n",
    "For this, you have several choices.  Since we used the HDF5TableWriter in this example, we have at least these options avilable:\n",
    "\n",
    "* Pandas\n",
    "* PyTables\n",
    "* Astropy Table\n",
    "\n",
    "For other TableWriter implementations, others may be possible (depending on format)\n"
   ]
  },
  {
   "cell_type": "markdown",
   "metadata": {},
   "source": [
    "#### Reading with Pandas:\n",
    "\n",
    "Pandas is a convenient way to read the output.  **HOWEVER BE WARNED** that so far Pandas does not support reading the table *meta-data* or *units* for colums, so that information is lost! "
   ]
  },
  {
   "cell_type": "code",
   "execution_count": 16,
   "metadata": {
    "execution": {
     "iopub.execute_input": "2022-04-22T10:15:19.833551Z",
     "iopub.status.busy": "2022-04-22T10:15:19.833179Z",
     "iopub.status.idle": "2022-04-22T10:15:20.076346Z",
     "shell.execute_reply": "2022-04-22T10:15:20.075551Z"
    }
   },
   "outputs": [
    {
     "data": {
      "text/html": [
       "<div>\n",
       "<style scoped>\n",
       "    .dataframe tbody tr th:only-of-type {\n",
       "        vertical-align: middle;\n",
       "    }\n",
       "\n",
       "    .dataframe tbody tr th {\n",
       "        vertical-align: top;\n",
       "    }\n",
       "\n",
       "    .dataframe thead th {\n",
       "        text-align: right;\n",
       "    }\n",
       "</style>\n",
       "<table border=\"1\" class=\"dataframe\">\n",
       "  <thead>\n",
       "    <tr style=\"text-align: right;\">\n",
       "      <th></th>\n",
       "      <th>a_int</th>\n",
       "      <th>a_float</th>\n",
       "      <th>a_bool</th>\n",
       "      <th>a_np_int</th>\n",
       "      <th>a_np_float</th>\n",
       "      <th>a_np_bool</th>\n",
       "    </tr>\n",
       "  </thead>\n",
       "  <tbody>\n",
       "    <tr>\n",
       "      <th>0</th>\n",
       "      <td>0</td>\n",
       "      <td>0.00</td>\n",
       "      <td>True</td>\n",
       "      <td>0</td>\n",
       "      <td>0.0</td>\n",
       "      <td>True</td>\n",
       "    </tr>\n",
       "    <tr>\n",
       "      <th>1</th>\n",
       "      <td>1</td>\n",
       "      <td>0.01</td>\n",
       "      <td>False</td>\n",
       "      <td>1</td>\n",
       "      <td>1.0</td>\n",
       "      <td>False</td>\n",
       "    </tr>\n",
       "    <tr>\n",
       "      <th>2</th>\n",
       "      <td>2</td>\n",
       "      <td>0.02</td>\n",
       "      <td>True</td>\n",
       "      <td>2</td>\n",
       "      <td>2.0</td>\n",
       "      <td>True</td>\n",
       "    </tr>\n",
       "    <tr>\n",
       "      <th>3</th>\n",
       "      <td>3</td>\n",
       "      <td>0.03</td>\n",
       "      <td>False</td>\n",
       "      <td>3</td>\n",
       "      <td>3.0</td>\n",
       "      <td>False</td>\n",
       "    </tr>\n",
       "    <tr>\n",
       "      <th>4</th>\n",
       "      <td>4</td>\n",
       "      <td>0.04</td>\n",
       "      <td>True</td>\n",
       "      <td>4</td>\n",
       "      <td>4.0</td>\n",
       "      <td>True</td>\n",
       "    </tr>\n",
       "  </tbody>\n",
       "</table>\n",
       "</div>"
      ],
      "text/plain": [
       "   a_int  a_float  a_bool  a_np_int  a_np_float  a_np_bool\n",
       "0      0     0.00    True         0         0.0       True\n",
       "1      1     0.01   False         1         1.0      False\n",
       "2      2     0.02    True         2         2.0       True\n",
       "3      3     0.03   False         3         3.0      False\n",
       "4      4     0.04    True         4         4.0       True"
      ]
     },
     "execution_count": 16,
     "metadata": {},
     "output_type": "execute_result"
    }
   ],
   "source": [
    "import pandas as pd\n",
    "\n",
    "data = pd.read_hdf('container.h5', key='/data_0/table')\n",
    "data.head()"
   ]
  },
  {
   "cell_type": "markdown",
   "metadata": {},
   "source": [
    "#### Reading with PyTables"
   ]
  },
  {
   "cell_type": "code",
   "execution_count": 17,
   "metadata": {
    "execution": {
     "iopub.execute_input": "2022-04-22T10:15:20.080528Z",
     "iopub.status.busy": "2022-04-22T10:15:20.080246Z",
     "iopub.status.idle": "2022-04-22T10:15:20.092175Z",
     "shell.execute_reply": "2022-04-22T10:15:20.091210Z"
    }
   },
   "outputs": [
    {
     "data": {
      "text/plain": [
       "/data_0/table (Table(10,)fletcher32, shuffle, blosc:zstd(5)) 'Storage of VariousTypesContainer'\n",
       "  description := {\n",
       "  \"a_int\": Int64Col(shape=(), dflt=0, pos=0),\n",
       "  \"a_float\": Float64Col(shape=(), dflt=0.0, pos=1),\n",
       "  \"a_bool\": BoolCol(shape=(), dflt=False, pos=2),\n",
       "  \"a_np_int\": Int64Col(shape=(), dflt=0, pos=3),\n",
       "  \"a_np_float\": Float64Col(shape=(), dflt=0.0, pos=4),\n",
       "  \"a_np_bool\": BoolCol(shape=(), dflt=False, pos=5)}\n",
       "  byteorder := 'little'\n",
       "  chunkshape := (1927,)"
      ]
     },
     "execution_count": 17,
     "metadata": {},
     "output_type": "execute_result"
    }
   ],
   "source": [
    "import tables\n",
    "h5  = tables.open_file('container.h5')\n",
    "table = h5.root['data_0']['table']\n",
    "table"
   ]
  },
  {
   "cell_type": "markdown",
   "metadata": {},
   "source": [
    "note that here we can still access the metadata"
   ]
  },
  {
   "cell_type": "code",
   "execution_count": 18,
   "metadata": {
    "execution": {
     "iopub.execute_input": "2022-04-22T10:15:20.096261Z",
     "iopub.status.busy": "2022-04-22T10:15:20.096037Z",
     "iopub.status.idle": "2022-04-22T10:15:20.101796Z",
     "shell.execute_reply": "2022-04-22T10:15:20.101187Z"
    }
   },
   "outputs": [
    {
     "data": {
      "text/plain": [
       "/data_0/table._v_attrs (AttributeSet), 25 attributes:\n",
       "   [CLASS := 'TABLE',\n",
       "    CTAPIPE_VERSION := '0.14.1.dev4+g21c1c3ab',\n",
       "    FIELD_0_FILL := 0,\n",
       "    FIELD_0_NAME := 'a_int',\n",
       "    FIELD_1_FILL := 0.0,\n",
       "    FIELD_1_NAME := 'a_float',\n",
       "    FIELD_2_FILL := False,\n",
       "    FIELD_2_NAME := 'a_bool',\n",
       "    FIELD_3_FILL := 0,\n",
       "    FIELD_3_NAME := 'a_np_int',\n",
       "    FIELD_4_FILL := 0.0,\n",
       "    FIELD_4_NAME := 'a_np_float',\n",
       "    FIELD_5_FILL := False,\n",
       "    FIELD_5_NAME := 'a_np_bool',\n",
       "    NROWS := 10,\n",
       "    TITLE := 'Storage of VariousTypesContainer',\n",
       "    VERSION := '2.7',\n",
       "    a_bool_DESC := 'some bool value',\n",
       "    a_float_DESC := 'some float value with a unit',\n",
       "    a_float_TRANSFORM := 'quantity',\n",
       "    a_float_UNIT := 'm',\n",
       "    a_int_DESC := 'some int value',\n",
       "    a_np_bool_DESC := 'np.bool',\n",
       "    a_np_float_DESC := 'a numpy float',\n",
       "    a_np_int_DESC := 'a numpy int']"
      ]
     },
     "execution_count": 18,
     "metadata": {},
     "output_type": "execute_result"
    }
   ],
   "source": [
    "table.attrs"
   ]
  },
  {
   "cell_type": "markdown",
   "metadata": {},
   "source": [
    "### Reading one-row-at-a-time:"
   ]
  },
  {
   "cell_type": "markdown",
   "metadata": {},
   "source": [
    "Rather than using the full-table methods, if you want to read it row-by-row (e.g. to maintain compatibility with an existing event loop), you can use a `TableReader` instance.\n",
    "\n",
    "The advantage here is that units and other metadata are retained and re-applied"
   ]
  },
  {
   "cell_type": "code",
   "execution_count": 19,
   "metadata": {
    "execution": {
     "iopub.execute_input": "2022-04-22T10:15:20.105220Z",
     "iopub.status.busy": "2022-04-22T10:15:20.104861Z",
     "iopub.status.idle": "2022-04-22T10:15:20.110181Z",
     "shell.execute_reply": "2022-04-22T10:15:20.109575Z"
    }
   },
   "outputs": [],
   "source": [
    "from ctapipe.io import HDF5TableReader\n",
    "\n",
    "def read(mode):\n",
    "    \n",
    "    print('reading mode {}'.format(mode))\n",
    "\n",
    "    with HDF5TableReader('container.h5', mode=mode) as h5_table:\n",
    "\n",
    "        for group_name in ['data_0/', 'data_1/']:\n",
    "\n",
    "            group_name = '/{}table'.format(group_name)\n",
    "            print(group_name)\n",
    "\n",
    "            for data in h5_table.read(group_name, VariousTypesContainer()):\n",
    "\n",
    "                print(data.as_dict())"
   ]
  },
  {
   "cell_type": "code",
   "execution_count": 20,
   "metadata": {
    "execution": {
     "iopub.execute_input": "2022-04-22T10:15:20.113302Z",
     "iopub.status.busy": "2022-04-22T10:15:20.113091Z",
     "iopub.status.idle": "2022-04-22T10:15:20.133352Z",
     "shell.execute_reply": "2022-04-22T10:15:20.132660Z"
    }
   },
   "outputs": [
    {
     "name": "stdout",
     "output_type": "stream",
     "text": [
      "reading mode r\n",
      "/data_0/table\n",
      "{'a_int': 0, 'a_float': <Quantity 0. m>, 'a_bool': True, 'a_np_int': 0, 'a_np_float': 0.0, 'a_np_bool': True}\n",
      "{'a_int': 1, 'a_float': <Quantity 0.01 m>, 'a_bool': False, 'a_np_int': 1, 'a_np_float': 1.0, 'a_np_bool': False}\n",
      "{'a_int': 2, 'a_float': <Quantity 0.02 m>, 'a_bool': True, 'a_np_int': 2, 'a_np_float': 2.0, 'a_np_bool': True}\n",
      "{'a_int': 3, 'a_float': <Quantity 0.03 m>, 'a_bool': False, 'a_np_int': 3, 'a_np_float': 3.0, 'a_np_bool': False}\n",
      "{'a_int': 4, 'a_float': <Quantity 0.04 m>, 'a_bool': True, 'a_np_int': 4, 'a_np_float': 4.0, 'a_np_bool': True}\n",
      "{'a_int': 5, 'a_float': <Quantity 0.05 m>, 'a_bool': False, 'a_np_int': 5, 'a_np_float': 5.0, 'a_np_bool': False}\n",
      "{'a_int': 6, 'a_float': <Quantity 0.06 m>, 'a_bool': True, 'a_np_int': 6, 'a_np_float': 6.0, 'a_np_bool': True}\n",
      "{'a_int': 7, 'a_float': <Quantity 0.07 m>, 'a_bool': False, 'a_np_int': 7, 'a_np_float': 7.0, 'a_np_bool': False}\n",
      "{'a_int': 8, 'a_float': <Quantity 0.08 m>, 'a_bool': True, 'a_np_int': 8, 'a_np_float': 8.0, 'a_np_bool': True}\n",
      "{'a_int': 9, 'a_float': <Quantity 0.09 m>, 'a_bool': False, 'a_np_int': 9, 'a_np_float': 9.0, 'a_np_bool': False}\n",
      "/data_1/table\n",
      "{'a_int': 0, 'a_float': <Quantity 0. m>, 'a_bool': True, 'a_np_int': 0, 'a_np_float': 0.0, 'a_np_bool': True}\n",
      "{'a_int': 1, 'a_float': <Quantity 0.01 m>, 'a_bool': False, 'a_np_int': 1, 'a_np_float': 1.0, 'a_np_bool': False}\n",
      "{'a_int': 2, 'a_float': <Quantity 0.02 m>, 'a_bool': True, 'a_np_int': 2, 'a_np_float': 2.0, 'a_np_bool': True}\n",
      "{'a_int': 3, 'a_float': <Quantity 0.03 m>, 'a_bool': False, 'a_np_int': 3, 'a_np_float': 3.0, 'a_np_bool': False}\n",
      "{'a_int': 4, 'a_float': <Quantity 0.04 m>, 'a_bool': True, 'a_np_int': 4, 'a_np_float': 4.0, 'a_np_bool': True}\n",
      "{'a_int': 5, 'a_float': <Quantity 0.05 m>, 'a_bool': False, 'a_np_int': 5, 'a_np_float': 5.0, 'a_np_bool': False}\n",
      "{'a_int': 6, 'a_float': <Quantity 0.06 m>, 'a_bool': True, 'a_np_int': 6, 'a_np_float': 6.0, 'a_np_bool': True}\n",
      "{'a_int': 7, 'a_float': <Quantity 0.07 m>, 'a_bool': False, 'a_np_int': 7, 'a_np_float': 7.0, 'a_np_bool': False}\n",
      "{'a_int': 8, 'a_float': <Quantity 0.08 m>, 'a_bool': True, 'a_np_int': 8, 'a_np_float': 8.0, 'a_np_bool': True}\n",
      "{'a_int': 9, 'a_float': <Quantity 0.09 m>, 'a_bool': False, 'a_np_int': 9, 'a_np_float': 9.0, 'a_np_bool': False}\n",
      "{'a_int': 0, 'a_float': <Quantity 0. m>, 'a_bool': True, 'a_np_int': 0, 'a_np_float': 0.0, 'a_np_bool': True}\n",
      "{'a_int': 1, 'a_float': <Quantity 0.01 m>, 'a_bool': False, 'a_np_int': 1, 'a_np_float': 1.0, 'a_np_bool': False}\n",
      "{'a_int': 2, 'a_float': <Quantity 0.02 m>, 'a_bool': True, 'a_np_int': 2, 'a_np_float': 2.0, 'a_np_bool': True}\n",
      "{'a_int': 3, 'a_float': <Quantity 0.03 m>, 'a_bool': False, 'a_np_int': 3, 'a_np_float': 3.0, 'a_np_bool': False}\n",
      "{'a_int': 4, 'a_float': <Quantity 0.04 m>, 'a_bool': True, 'a_np_int': 4, 'a_np_float': 4.0, 'a_np_bool': True}\n",
      "{'a_int': 5, 'a_float': <Quantity 0.05 m>, 'a_bool': False, 'a_np_int': 5, 'a_np_float': 5.0, 'a_np_bool': False}\n",
      "{'a_int': 6, 'a_float': <Quantity 0.06 m>, 'a_bool': True, 'a_np_int': 6, 'a_np_float': 6.0, 'a_np_bool': True}\n",
      "{'a_int': 7, 'a_float': <Quantity 0.07 m>, 'a_bool': False, 'a_np_int': 7, 'a_np_float': 7.0, 'a_np_bool': False}\n",
      "{'a_int': 8, 'a_float': <Quantity 0.08 m>, 'a_bool': True, 'a_np_int': 8, 'a_np_float': 8.0, 'a_np_bool': True}\n",
      "{'a_int': 9, 'a_float': <Quantity 0.09 m>, 'a_bool': False, 'a_np_int': 9, 'a_np_float': 9.0, 'a_np_bool': False}\n"
     ]
    }
   ],
   "source": [
    "read('r')"
   ]
  },
  {
   "cell_type": "code",
   "execution_count": 21,
   "metadata": {
    "execution": {
     "iopub.execute_input": "2022-04-22T10:15:20.137014Z",
     "iopub.status.busy": "2022-04-22T10:15:20.136472Z",
     "iopub.status.idle": "2022-04-22T10:15:20.157447Z",
     "shell.execute_reply": "2022-04-22T10:15:20.156707Z"
    }
   },
   "outputs": [
    {
     "name": "stdout",
     "output_type": "stream",
     "text": [
      "reading mode r+\n",
      "/data_0/table\n",
      "{'a_int': 0, 'a_float': <Quantity 0. m>, 'a_bool': True, 'a_np_int': 0, 'a_np_float': 0.0, 'a_np_bool': True}\n",
      "{'a_int': 1, 'a_float': <Quantity 0.01 m>, 'a_bool': False, 'a_np_int': 1, 'a_np_float': 1.0, 'a_np_bool': False}\n",
      "{'a_int': 2, 'a_float': <Quantity 0.02 m>, 'a_bool': True, 'a_np_int': 2, 'a_np_float': 2.0, 'a_np_bool': True}\n",
      "{'a_int': 3, 'a_float': <Quantity 0.03 m>, 'a_bool': False, 'a_np_int': 3, 'a_np_float': 3.0, 'a_np_bool': False}\n",
      "{'a_int': 4, 'a_float': <Quantity 0.04 m>, 'a_bool': True, 'a_np_int': 4, 'a_np_float': 4.0, 'a_np_bool': True}\n",
      "{'a_int': 5, 'a_float': <Quantity 0.05 m>, 'a_bool': False, 'a_np_int': 5, 'a_np_float': 5.0, 'a_np_bool': False}\n",
      "{'a_int': 6, 'a_float': <Quantity 0.06 m>, 'a_bool': True, 'a_np_int': 6, 'a_np_float': 6.0, 'a_np_bool': True}\n",
      "{'a_int': 7, 'a_float': <Quantity 0.07 m>, 'a_bool': False, 'a_np_int': 7, 'a_np_float': 7.0, 'a_np_bool': False}\n",
      "{'a_int': 8, 'a_float': <Quantity 0.08 m>, 'a_bool': True, 'a_np_int': 8, 'a_np_float': 8.0, 'a_np_bool': True}\n",
      "{'a_int': 9, 'a_float': <Quantity 0.09 m>, 'a_bool': False, 'a_np_int': 9, 'a_np_float': 9.0, 'a_np_bool': False}\n",
      "/data_1/table\n",
      "{'a_int': 0, 'a_float': <Quantity 0. m>, 'a_bool': True, 'a_np_int': 0, 'a_np_float': 0.0, 'a_np_bool': True}\n",
      "{'a_int': 1, 'a_float': <Quantity 0.01 m>, 'a_bool': False, 'a_np_int': 1, 'a_np_float': 1.0, 'a_np_bool': False}\n",
      "{'a_int': 2, 'a_float': <Quantity 0.02 m>, 'a_bool': True, 'a_np_int': 2, 'a_np_float': 2.0, 'a_np_bool': True}\n",
      "{'a_int': 3, 'a_float': <Quantity 0.03 m>, 'a_bool': False, 'a_np_int': 3, 'a_np_float': 3.0, 'a_np_bool': False}\n",
      "{'a_int': 4, 'a_float': <Quantity 0.04 m>, 'a_bool': True, 'a_np_int': 4, 'a_np_float': 4.0, 'a_np_bool': True}\n",
      "{'a_int': 5, 'a_float': <Quantity 0.05 m>, 'a_bool': False, 'a_np_int': 5, 'a_np_float': 5.0, 'a_np_bool': False}\n",
      "{'a_int': 6, 'a_float': <Quantity 0.06 m>, 'a_bool': True, 'a_np_int': 6, 'a_np_float': 6.0, 'a_np_bool': True}\n",
      "{'a_int': 7, 'a_float': <Quantity 0.07 m>, 'a_bool': False, 'a_np_int': 7, 'a_np_float': 7.0, 'a_np_bool': False}\n",
      "{'a_int': 8, 'a_float': <Quantity 0.08 m>, 'a_bool': True, 'a_np_int': 8, 'a_np_float': 8.0, 'a_np_bool': True}\n",
      "{'a_int': 9, 'a_float': <Quantity 0.09 m>, 'a_bool': False, 'a_np_int': 9, 'a_np_float': 9.0, 'a_np_bool': False}\n",
      "{'a_int': 0, 'a_float': <Quantity 0. m>, 'a_bool': True, 'a_np_int': 0, 'a_np_float': 0.0, 'a_np_bool': True}\n",
      "{'a_int': 1, 'a_float': <Quantity 0.01 m>, 'a_bool': False, 'a_np_int': 1, 'a_np_float': 1.0, 'a_np_bool': False}\n",
      "{'a_int': 2, 'a_float': <Quantity 0.02 m>, 'a_bool': True, 'a_np_int': 2, 'a_np_float': 2.0, 'a_np_bool': True}\n",
      "{'a_int': 3, 'a_float': <Quantity 0.03 m>, 'a_bool': False, 'a_np_int': 3, 'a_np_float': 3.0, 'a_np_bool': False}\n",
      "{'a_int': 4, 'a_float': <Quantity 0.04 m>, 'a_bool': True, 'a_np_int': 4, 'a_np_float': 4.0, 'a_np_bool': True}\n",
      "{'a_int': 5, 'a_float': <Quantity 0.05 m>, 'a_bool': False, 'a_np_int': 5, 'a_np_float': 5.0, 'a_np_bool': False}\n",
      "{'a_int': 6, 'a_float': <Quantity 0.06 m>, 'a_bool': True, 'a_np_int': 6, 'a_np_float': 6.0, 'a_np_bool': True}\n",
      "{'a_int': 7, 'a_float': <Quantity 0.07 m>, 'a_bool': False, 'a_np_int': 7, 'a_np_float': 7.0, 'a_np_bool': False}\n",
      "{'a_int': 8, 'a_float': <Quantity 0.08 m>, 'a_bool': True, 'a_np_int': 8, 'a_np_float': 8.0, 'a_np_bool': True}\n",
      "{'a_int': 9, 'a_float': <Quantity 0.09 m>, 'a_bool': False, 'a_np_int': 9, 'a_np_float': 9.0, 'a_np_bool': False}\n"
     ]
    }
   ],
   "source": [
    "read('r+')"
   ]
  },
  {
   "cell_type": "code",
   "execution_count": 22,
   "metadata": {
    "execution": {
     "iopub.execute_input": "2022-04-22T10:15:20.161129Z",
     "iopub.status.busy": "2022-04-22T10:15:20.160778Z",
     "iopub.status.idle": "2022-04-22T10:15:20.182008Z",
     "shell.execute_reply": "2022-04-22T10:15:20.181088Z"
    }
   },
   "outputs": [
    {
     "name": "stdout",
     "output_type": "stream",
     "text": [
      "reading mode a\n",
      "/data_0/table\n",
      "{'a_int': 0, 'a_float': <Quantity 0. m>, 'a_bool': True, 'a_np_int': 0, 'a_np_float': 0.0, 'a_np_bool': True}\n",
      "{'a_int': 1, 'a_float': <Quantity 0.01 m>, 'a_bool': False, 'a_np_int': 1, 'a_np_float': 1.0, 'a_np_bool': False}\n",
      "{'a_int': 2, 'a_float': <Quantity 0.02 m>, 'a_bool': True, 'a_np_int': 2, 'a_np_float': 2.0, 'a_np_bool': True}\n",
      "{'a_int': 3, 'a_float': <Quantity 0.03 m>, 'a_bool': False, 'a_np_int': 3, 'a_np_float': 3.0, 'a_np_bool': False}\n",
      "{'a_int': 4, 'a_float': <Quantity 0.04 m>, 'a_bool': True, 'a_np_int': 4, 'a_np_float': 4.0, 'a_np_bool': True}\n",
      "{'a_int': 5, 'a_float': <Quantity 0.05 m>, 'a_bool': False, 'a_np_int': 5, 'a_np_float': 5.0, 'a_np_bool': False}\n",
      "{'a_int': 6, 'a_float': <Quantity 0.06 m>, 'a_bool': True, 'a_np_int': 6, 'a_np_float': 6.0, 'a_np_bool': True}\n",
      "{'a_int': 7, 'a_float': <Quantity 0.07 m>, 'a_bool': False, 'a_np_int': 7, 'a_np_float': 7.0, 'a_np_bool': False}\n",
      "{'a_int': 8, 'a_float': <Quantity 0.08 m>, 'a_bool': True, 'a_np_int': 8, 'a_np_float': 8.0, 'a_np_bool': True}\n",
      "{'a_int': 9, 'a_float': <Quantity 0.09 m>, 'a_bool': False, 'a_np_int': 9, 'a_np_float': 9.0, 'a_np_bool': False}\n",
      "/data_1/table\n",
      "{'a_int': 0, 'a_float': <Quantity 0. m>, 'a_bool': True, 'a_np_int': 0, 'a_np_float': 0.0, 'a_np_bool': True}\n",
      "{'a_int': 1, 'a_float': <Quantity 0.01 m>, 'a_bool': False, 'a_np_int': 1, 'a_np_float': 1.0, 'a_np_bool': False}\n",
      "{'a_int': 2, 'a_float': <Quantity 0.02 m>, 'a_bool': True, 'a_np_int': 2, 'a_np_float': 2.0, 'a_np_bool': True}\n",
      "{'a_int': 3, 'a_float': <Quantity 0.03 m>, 'a_bool': False, 'a_np_int': 3, 'a_np_float': 3.0, 'a_np_bool': False}\n",
      "{'a_int': 4, 'a_float': <Quantity 0.04 m>, 'a_bool': True, 'a_np_int': 4, 'a_np_float': 4.0, 'a_np_bool': True}\n",
      "{'a_int': 5, 'a_float': <Quantity 0.05 m>, 'a_bool': False, 'a_np_int': 5, 'a_np_float': 5.0, 'a_np_bool': False}\n",
      "{'a_int': 6, 'a_float': <Quantity 0.06 m>, 'a_bool': True, 'a_np_int': 6, 'a_np_float': 6.0, 'a_np_bool': True}\n",
      "{'a_int': 7, 'a_float': <Quantity 0.07 m>, 'a_bool': False, 'a_np_int': 7, 'a_np_float': 7.0, 'a_np_bool': False}\n",
      "{'a_int': 8, 'a_float': <Quantity 0.08 m>, 'a_bool': True, 'a_np_int': 8, 'a_np_float': 8.0, 'a_np_bool': True}\n",
      "{'a_int': 9, 'a_float': <Quantity 0.09 m>, 'a_bool': False, 'a_np_int': 9, 'a_np_float': 9.0, 'a_np_bool': False}\n",
      "{'a_int': 0, 'a_float': <Quantity 0. m>, 'a_bool': True, 'a_np_int': 0, 'a_np_float': 0.0, 'a_np_bool': True}\n",
      "{'a_int': 1, 'a_float': <Quantity 0.01 m>, 'a_bool': False, 'a_np_int': 1, 'a_np_float': 1.0, 'a_np_bool': False}\n",
      "{'a_int': 2, 'a_float': <Quantity 0.02 m>, 'a_bool': True, 'a_np_int': 2, 'a_np_float': 2.0, 'a_np_bool': True}\n",
      "{'a_int': 3, 'a_float': <Quantity 0.03 m>, 'a_bool': False, 'a_np_int': 3, 'a_np_float': 3.0, 'a_np_bool': False}\n",
      "{'a_int': 4, 'a_float': <Quantity 0.04 m>, 'a_bool': True, 'a_np_int': 4, 'a_np_float': 4.0, 'a_np_bool': True}\n",
      "{'a_int': 5, 'a_float': <Quantity 0.05 m>, 'a_bool': False, 'a_np_int': 5, 'a_np_float': 5.0, 'a_np_bool': False}\n",
      "{'a_int': 6, 'a_float': <Quantity 0.06 m>, 'a_bool': True, 'a_np_int': 6, 'a_np_float': 6.0, 'a_np_bool': True}\n",
      "{'a_int': 7, 'a_float': <Quantity 0.07 m>, 'a_bool': False, 'a_np_int': 7, 'a_np_float': 7.0, 'a_np_bool': False}\n",
      "{'a_int': 8, 'a_float': <Quantity 0.08 m>, 'a_bool': True, 'a_np_int': 8, 'a_np_float': 8.0, 'a_np_bool': True}\n",
      "{'a_int': 9, 'a_float': <Quantity 0.09 m>, 'a_bool': False, 'a_np_int': 9, 'a_np_float': 9.0, 'a_np_bool': False}\n"
     ]
    }
   ],
   "source": [
    "read('a')"
   ]
  },
  {
   "cell_type": "code",
   "execution_count": 23,
   "metadata": {
    "execution": {
     "iopub.execute_input": "2022-04-22T10:15:20.186164Z",
     "iopub.status.busy": "2022-04-22T10:15:20.185798Z",
     "iopub.status.idle": "2022-04-22T10:15:20.207592Z",
     "shell.execute_reply": "2022-04-22T10:15:20.206880Z"
    }
   },
   "outputs": [
    {
     "name": "stdout",
     "output_type": "stream",
     "text": [
      "reading mode w\n",
      "/data_0/table\n",
      "{'a_int': 0, 'a_float': <Quantity 0. m>, 'a_bool': True, 'a_np_int': 0, 'a_np_float': 0.0, 'a_np_bool': True}\n",
      "{'a_int': 1, 'a_float': <Quantity 0.01 m>, 'a_bool': False, 'a_np_int': 1, 'a_np_float': 1.0, 'a_np_bool': False}\n",
      "{'a_int': 2, 'a_float': <Quantity 0.02 m>, 'a_bool': True, 'a_np_int': 2, 'a_np_float': 2.0, 'a_np_bool': True}\n",
      "{'a_int': 3, 'a_float': <Quantity 0.03 m>, 'a_bool': False, 'a_np_int': 3, 'a_np_float': 3.0, 'a_np_bool': False}\n",
      "{'a_int': 4, 'a_float': <Quantity 0.04 m>, 'a_bool': True, 'a_np_int': 4, 'a_np_float': 4.0, 'a_np_bool': True}\n",
      "{'a_int': 5, 'a_float': <Quantity 0.05 m>, 'a_bool': False, 'a_np_int': 5, 'a_np_float': 5.0, 'a_np_bool': False}\n",
      "{'a_int': 6, 'a_float': <Quantity 0.06 m>, 'a_bool': True, 'a_np_int': 6, 'a_np_float': 6.0, 'a_np_bool': True}\n",
      "{'a_int': 7, 'a_float': <Quantity 0.07 m>, 'a_bool': False, 'a_np_int': 7, 'a_np_float': 7.0, 'a_np_bool': False}\n",
      "{'a_int': 8, 'a_float': <Quantity 0.08 m>, 'a_bool': True, 'a_np_int': 8, 'a_np_float': 8.0, 'a_np_bool': True}\n",
      "{'a_int': 9, 'a_float': <Quantity 0.09 m>, 'a_bool': False, 'a_np_int': 9, 'a_np_float': 9.0, 'a_np_bool': False}\n",
      "/data_1/table\n",
      "{'a_int': 0, 'a_float': <Quantity 0. m>, 'a_bool': True, 'a_np_int': 0, 'a_np_float': 0.0, 'a_np_bool': True}\n",
      "{'a_int': 1, 'a_float': <Quantity 0.01 m>, 'a_bool': False, 'a_np_int': 1, 'a_np_float': 1.0, 'a_np_bool': False}\n",
      "{'a_int': 2, 'a_float': <Quantity 0.02 m>, 'a_bool': True, 'a_np_int': 2, 'a_np_float': 2.0, 'a_np_bool': True}\n",
      "{'a_int': 3, 'a_float': <Quantity 0.03 m>, 'a_bool': False, 'a_np_int': 3, 'a_np_float': 3.0, 'a_np_bool': False}\n",
      "{'a_int': 4, 'a_float': <Quantity 0.04 m>, 'a_bool': True, 'a_np_int': 4, 'a_np_float': 4.0, 'a_np_bool': True}\n",
      "{'a_int': 5, 'a_float': <Quantity 0.05 m>, 'a_bool': False, 'a_np_int': 5, 'a_np_float': 5.0, 'a_np_bool': False}\n",
      "{'a_int': 6, 'a_float': <Quantity 0.06 m>, 'a_bool': True, 'a_np_int': 6, 'a_np_float': 6.0, 'a_np_bool': True}\n",
      "{'a_int': 7, 'a_float': <Quantity 0.07 m>, 'a_bool': False, 'a_np_int': 7, 'a_np_float': 7.0, 'a_np_bool': False}\n",
      "{'a_int': 8, 'a_float': <Quantity 0.08 m>, 'a_bool': True, 'a_np_int': 8, 'a_np_float': 8.0, 'a_np_bool': True}\n",
      "{'a_int': 9, 'a_float': <Quantity 0.09 m>, 'a_bool': False, 'a_np_int': 9, 'a_np_float': 9.0, 'a_np_bool': False}\n",
      "{'a_int': 0, 'a_float': <Quantity 0. m>, 'a_bool': True, 'a_np_int': 0, 'a_np_float': 0.0, 'a_np_bool': True}\n",
      "{'a_int': 1, 'a_float': <Quantity 0.01 m>, 'a_bool': False, 'a_np_int': 1, 'a_np_float': 1.0, 'a_np_bool': False}\n",
      "{'a_int': 2, 'a_float': <Quantity 0.02 m>, 'a_bool': True, 'a_np_int': 2, 'a_np_float': 2.0, 'a_np_bool': True}\n",
      "{'a_int': 3, 'a_float': <Quantity 0.03 m>, 'a_bool': False, 'a_np_int': 3, 'a_np_float': 3.0, 'a_np_bool': False}\n",
      "{'a_int': 4, 'a_float': <Quantity 0.04 m>, 'a_bool': True, 'a_np_int': 4, 'a_np_float': 4.0, 'a_np_bool': True}\n",
      "{'a_int': 5, 'a_float': <Quantity 0.05 m>, 'a_bool': False, 'a_np_int': 5, 'a_np_float': 5.0, 'a_np_bool': False}\n",
      "{'a_int': 6, 'a_float': <Quantity 0.06 m>, 'a_bool': True, 'a_np_int': 6, 'a_np_float': 6.0, 'a_np_bool': True}\n",
      "{'a_int': 7, 'a_float': <Quantity 0.07 m>, 'a_bool': False, 'a_np_int': 7, 'a_np_float': 7.0, 'a_np_bool': False}\n",
      "{'a_int': 8, 'a_float': <Quantity 0.08 m>, 'a_bool': True, 'a_np_int': 8, 'a_np_float': 8.0, 'a_np_bool': True}\n",
      "{'a_int': 9, 'a_float': <Quantity 0.09 m>, 'a_bool': False, 'a_np_int': 9, 'a_np_float': 9.0, 'a_np_bool': False}\n"
     ]
    }
   ],
   "source": [
    "read('w')"
   ]
  },
  {
   "cell_type": "code",
   "execution_count": null,
   "metadata": {},
   "outputs": [],
   "source": []
  }
 ],
 "metadata": {
  "kernelspec": {
   "display_name": "Python 3",
   "language": "python",
   "name": "python3"
  },
  "language_info": {
   "codemirror_mode": {
    "name": "ipython",
    "version": 3
   },
   "file_extension": ".py",
   "mimetype": "text/x-python",
   "name": "python",
   "nbconvert_exporter": "python",
   "pygments_lexer": "ipython3",
   "version": "3.8.12"
  }
 },
 "nbformat": 4,
 "nbformat_minor": 4
}
