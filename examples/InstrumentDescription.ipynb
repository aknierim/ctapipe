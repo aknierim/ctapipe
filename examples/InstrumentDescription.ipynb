{
 "cells": [
  {
   "cell_type": "markdown",
   "metadata": {},
   "source": [
    "# Working with Instrumental Descriptions\n",
    "\n",
    "the instrumental description is loaded by the event source, and consists of a hierarchy of classes in the ctapipe.instrument module, the base of which is the `SubarrayDescription`"
   ]
  },
  {
   "cell_type": "code",
   "execution_count": 1,
   "metadata": {
    "execution": {
     "iopub.execute_input": "2022-04-22T10:13:40.318077Z",
     "iopub.status.busy": "2022-04-22T10:13:40.317616Z",
     "iopub.status.idle": "2022-04-22T10:14:02.095264Z",
     "shell.execute_reply": "2022-04-22T10:14:02.094351Z"
    },
    "scrolled": false
   },
   "outputs": [
    {
     "data": {
      "application/vnd.jupyter.widget-view+json": {
       "model_id": "cd7b47dc89e749768db739c1ea915e41",
       "version_major": 2,
       "version_minor": 0
      },
      "text/plain": [
       "Downloading gamma_test_large.simtel.gz:   0%|          | 0.00/41.7M [00:00<?, ?B/s]"
      ]
     },
     "metadata": {},
     "output_type": "display_data"
    }
   ],
   "source": [
    "from ctapipe.utils.datasets import get_dataset_path\n",
    "from ctapipe.io import EventSource\n",
    "import numpy as np\n",
    "\n",
    "#filename = get_dataset_path(\"gamma_test_large.simtel.gz\") # try this one as well\n",
    "filename = get_dataset_path(\"gamma_test_large.simtel.gz\")  \n",
    "\n",
    "with EventSource(filename, max_events=1) as source:\n",
    "    subarray = source.subarray"
   ]
  },
  {
   "cell_type": "markdown",
   "metadata": {},
   "source": [
    "## the SubarrayDescription:"
   ]
  },
  {
   "cell_type": "code",
   "execution_count": 2,
   "metadata": {
    "execution": {
     "iopub.execute_input": "2022-04-22T10:14:02.100826Z",
     "iopub.status.busy": "2022-04-22T10:14:02.100583Z",
     "iopub.status.idle": "2022-04-22T10:14:02.173957Z",
     "shell.execute_reply": "2022-04-22T10:14:02.173161Z"
    }
   },
   "outputs": [
    {
     "name": "stdout",
     "output_type": "stream",
     "text": [
      "Subarray : MonteCarloArray\n",
      "Num Tels : 98\n",
      "Footprint: 4.92 km2\n",
      "\n",
      "       Type        Count Tel IDs\n",
      "------------------ ----- -------\n",
      "    LST_LST_LSTCam     4 1-4    \n",
      "  MST_MST_FlashCam    25 5-29   \n",
      "SST_ASTRI_ASTRICam    69 30-98  \n"
     ]
    }
   ],
   "source": [
    "subarray.info()"
   ]
  },
  {
   "cell_type": "code",
   "execution_count": 3,
   "metadata": {
    "execution": {
     "iopub.execute_input": "2022-04-22T10:14:02.178009Z",
     "iopub.status.busy": "2022-04-22T10:14:02.177795Z",
     "iopub.status.idle": "2022-04-22T10:14:02.345112Z",
     "shell.execute_reply": "2022-04-22T10:14:02.344343Z"
    }
   },
   "outputs": [
    {
     "data": {
      "text/html": [
       "<div><i>Table length=98</i>\n",
       "<table id=\"table140146576764592\" class=\"table-striped table-bordered table-condensed\">\n",
       "<thead><tr><th>tel_id</th><th>pos_x</th><th>pos_y</th><th>pos_z</th><th>name</th><th>type</th><th>camera_type</th><th>camera_index</th><th>optics_index</th><th>tel_description</th></tr></thead>\n",
       "<thead><tr><th></th><th>m</th><th>m</th><th>m</th><th></th><th></th><th></th><th></th><th></th><th></th></tr></thead>\n",
       "<thead><tr><th>int16</th><th>float64</th><th>float64</th><th>float64</th><th>str5</th><th>str3</th><th>str8</th><th>int64</th><th>int64</th><th>str18</th></tr></thead>\n",
       "<tr><td>1</td><td>-20.0</td><td>65.0</td><td>16.0</td><td>LST</td><td>LST</td><td>LSTCam</td><td>2</td><td>0</td><td>LST_LST_LSTCam</td></tr>\n",
       "<tr><td>2</td><td>-20.0</td><td>-65.0</td><td>16.0</td><td>LST</td><td>LST</td><td>LSTCam</td><td>2</td><td>0</td><td>LST_LST_LSTCam</td></tr>\n",
       "<tr><td>3</td><td>80.0</td><td>0.0</td><td>16.0</td><td>LST</td><td>LST</td><td>LSTCam</td><td>2</td><td>0</td><td>LST_LST_LSTCam</td></tr>\n",
       "<tr><td>4</td><td>-120.0</td><td>0.0</td><td>16.0</td><td>LST</td><td>LST</td><td>LSTCam</td><td>2</td><td>0</td><td>LST_LST_LSTCam</td></tr>\n",
       "<tr><td>5</td><td>0.0</td><td>0.0</td><td>10.0</td><td>MST</td><td>MST</td><td>FlashCam</td><td>0</td><td>1</td><td>MST_MST_FlashCam</td></tr>\n",
       "<tr><td>6</td><td>0.0</td><td>151.1999969482422</td><td>10.0</td><td>MST</td><td>MST</td><td>FlashCam</td><td>0</td><td>1</td><td>MST_MST_FlashCam</td></tr>\n",
       "<tr><td>7</td><td>0.0</td><td>-151.1999969482422</td><td>10.0</td><td>MST</td><td>MST</td><td>FlashCam</td><td>0</td><td>1</td><td>MST_MST_FlashCam</td></tr>\n",
       "<tr><td>8</td><td>146.65599060058594</td><td>75.5999984741211</td><td>10.0</td><td>MST</td><td>MST</td><td>FlashCam</td><td>0</td><td>1</td><td>MST_MST_FlashCam</td></tr>\n",
       "<tr><td>9</td><td>146.65599060058594</td><td>-75.5999984741211</td><td>10.0</td><td>MST</td><td>MST</td><td>FlashCam</td><td>0</td><td>1</td><td>MST_MST_FlashCam</td></tr>\n",
       "<tr><td>...</td><td>...</td><td>...</td><td>...</td><td>...</td><td>...</td><td>...</td><td>...</td><td>...</td><td>...</td></tr>\n",
       "<tr><td>89</td><td>956.7870483398438</td><td>739.822998046875</td><td>5.0</td><td>ASTRI</td><td>SST</td><td>ASTRICam</td><td>1</td><td>2</td><td>SST_ASTRI_ASTRICam</td></tr>\n",
       "<tr><td>90</td><td>956.7870483398438</td><td>-739.822998046875</td><td>5.0</td><td>ASTRI</td><td>SST</td><td>ASTRICam</td><td>1</td><td>2</td><td>SST_ASTRI_ASTRICam</td></tr>\n",
       "<tr><td>91</td><td>-239.19699096679688</td><td>1109.7349853515625</td><td>5.0</td><td>ASTRI</td><td>SST</td><td>ASTRICam</td><td>1</td><td>2</td><td>SST_ASTRI_ASTRICam</td></tr>\n",
       "<tr><td>92</td><td>-239.19699096679688</td><td>-1109.7349853515625</td><td>5.0</td><td>ASTRI</td><td>SST</td><td>ASTRICam</td><td>1</td><td>2</td><td>SST_ASTRI_ASTRICam</td></tr>\n",
       "<tr><td>93</td><td>-956.7870483398438</td><td>739.822998046875</td><td>5.0</td><td>ASTRI</td><td>SST</td><td>ASTRICam</td><td>1</td><td>2</td><td>SST_ASTRI_ASTRICam</td></tr>\n",
       "<tr><td>94</td><td>-956.7870483398438</td><td>-739.822998046875</td><td>5.0</td><td>ASTRI</td><td>SST</td><td>ASTRICam</td><td>1</td><td>2</td><td>SST_ASTRI_ASTRICam</td></tr>\n",
       "<tr><td>95</td><td>1195.9840087890625</td><td>369.9119873046875</td><td>5.0</td><td>ASTRI</td><td>SST</td><td>ASTRICam</td><td>1</td><td>2</td><td>SST_ASTRI_ASTRICam</td></tr>\n",
       "<tr><td>96</td><td>1195.9840087890625</td><td>-369.9119873046875</td><td>5.0</td><td>ASTRI</td><td>SST</td><td>ASTRICam</td><td>1</td><td>2</td><td>SST_ASTRI_ASTRICam</td></tr>\n",
       "<tr><td>97</td><td>-1195.9840087890625</td><td>369.9119873046875</td><td>5.0</td><td>ASTRI</td><td>SST</td><td>ASTRICam</td><td>1</td><td>2</td><td>SST_ASTRI_ASTRICam</td></tr>\n",
       "<tr><td>98</td><td>-1195.9840087890625</td><td>-369.9119873046875</td><td>5.0</td><td>ASTRI</td><td>SST</td><td>ASTRICam</td><td>1</td><td>2</td><td>SST_ASTRI_ASTRICam</td></tr>\n",
       "</table></div>"
      ],
      "text/plain": [
       "<Table length=98>\n",
       "tel_id        pos_x        ... optics_index  tel_description  \n",
       "                m          ...                                \n",
       "int16        float64       ...    int64           str18       \n",
       "------ ------------------- ... ------------ ------------------\n",
       "     1               -20.0 ...            0     LST_LST_LSTCam\n",
       "     2               -20.0 ...            0     LST_LST_LSTCam\n",
       "     3                80.0 ...            0     LST_LST_LSTCam\n",
       "     4              -120.0 ...            0     LST_LST_LSTCam\n",
       "     5                 0.0 ...            1   MST_MST_FlashCam\n",
       "     6                 0.0 ...            1   MST_MST_FlashCam\n",
       "     7                 0.0 ...            1   MST_MST_FlashCam\n",
       "     8  146.65599060058594 ...            1   MST_MST_FlashCam\n",
       "     9  146.65599060058594 ...            1   MST_MST_FlashCam\n",
       "   ...                 ... ...          ...                ...\n",
       "    89   956.7870483398438 ...            2 SST_ASTRI_ASTRICam\n",
       "    90   956.7870483398438 ...            2 SST_ASTRI_ASTRICam\n",
       "    91 -239.19699096679688 ...            2 SST_ASTRI_ASTRICam\n",
       "    92 -239.19699096679688 ...            2 SST_ASTRI_ASTRICam\n",
       "    93  -956.7870483398438 ...            2 SST_ASTRI_ASTRICam\n",
       "    94  -956.7870483398438 ...            2 SST_ASTRI_ASTRICam\n",
       "    95  1195.9840087890625 ...            2 SST_ASTRI_ASTRICam\n",
       "    96  1195.9840087890625 ...            2 SST_ASTRI_ASTRICam\n",
       "    97 -1195.9840087890625 ...            2 SST_ASTRI_ASTRICam\n",
       "    98 -1195.9840087890625 ...            2 SST_ASTRI_ASTRICam"
      ]
     },
     "execution_count": 3,
     "metadata": {},
     "output_type": "execute_result"
    }
   ],
   "source": [
    "subarray.to_table()"
   ]
  },
  {
   "cell_type": "code",
   "execution_count": null,
   "metadata": {},
   "outputs": [],
   "source": []
  },
  {
   "cell_type": "markdown",
   "metadata": {},
   "source": [
    "You can also get a table of just the `OpticsDescriptions` (`CameraGeometry` is more complex and can't be stored on a single table row, so each one can be converted to a table separately)"
   ]
  },
  {
   "cell_type": "code",
   "execution_count": 4,
   "metadata": {
    "execution": {
     "iopub.execute_input": "2022-04-22T10:14:02.354804Z",
     "iopub.status.busy": "2022-04-22T10:14:02.354495Z",
     "iopub.status.idle": "2022-04-22T10:14:02.365356Z",
     "shell.execute_reply": "2022-04-22T10:14:02.364554Z"
    }
   },
   "outputs": [
    {
     "data": {
      "text/html": [
       "<div><i>Table length=3</i>\n",
       "<table id=\"table140146576916592\" class=\"table-striped table-bordered table-condensed\">\n",
       "<thead><tr><th>description</th><th>name</th><th>type</th><th>mirror_area</th><th>num_mirrors</th><th>num_mirror_tiles</th><th>equivalent_focal_length</th></tr></thead>\n",
       "<thead><tr><th></th><th></th><th></th><th>m2</th><th></th><th></th><th>m</th></tr></thead>\n",
       "<thead><tr><th>str18</th><th>str5</th><th>str3</th><th>float64</th><th>int64</th><th>int64</th><th>float64</th></tr></thead>\n",
       "<tr><td>LST_LST_LSTCam</td><td>LST</td><td>LST</td><td>386.7332458496094</td><td>1</td><td>198</td><td>28.0</td></tr>\n",
       "<tr><td>MST_MST_FlashCam</td><td>MST</td><td>MST</td><td>103.83055877685547</td><td>1</td><td>84</td><td>16.0</td></tr>\n",
       "<tr><td>SST_ASTRI_ASTRICam</td><td>ASTRI</td><td>SST</td><td>14.562566757202148</td><td>2</td><td>2</td><td>2.1500000953674316</td></tr>\n",
       "</table></div>"
      ],
      "text/plain": [
       "<Table length=3>\n",
       "   description      name type ... num_mirror_tiles equivalent_focal_length\n",
       "                              ...                             m           \n",
       "      str18         str5 str3 ...      int64               float64        \n",
       "------------------ ----- ---- ... ---------------- -----------------------\n",
       "    LST_LST_LSTCam   LST  LST ...              198                    28.0\n",
       "  MST_MST_FlashCam   MST  MST ...               84                    16.0\n",
       "SST_ASTRI_ASTRICam ASTRI  SST ...                2      2.1500000953674316"
      ]
     },
     "execution_count": 4,
     "metadata": {},
     "output_type": "execute_result"
    }
   ],
   "source": [
    "subarray.to_table(kind='optics')"
   ]
  },
  {
   "cell_type": "markdown",
   "metadata": {},
   "source": [
    "Make a sub-array with only SC-type telescopes:"
   ]
  },
  {
   "cell_type": "code",
   "execution_count": 5,
   "metadata": {
    "execution": {
     "iopub.execute_input": "2022-04-22T10:14:02.369725Z",
     "iopub.status.busy": "2022-04-22T10:14:02.369480Z",
     "iopub.status.idle": "2022-04-22T10:14:02.420540Z",
     "shell.execute_reply": "2022-04-22T10:14:02.419713Z"
    }
   },
   "outputs": [
    {
     "name": "stdout",
     "output_type": "stream",
     "text": [
      "Subarray : SCTels\n",
      "Num Tels : 69\n",
      "Footprint: 4.92 km2\n",
      "\n",
      "       Type        Count Tel IDs\n",
      "------------------ ----- -------\n",
      "SST_ASTRI_ASTRICam    69 30-98  \n"
     ]
    }
   ],
   "source": [
    "sc_tels =[tel_id for tel_id, tel in subarray.tel.items() if tel.optics.num_mirrors ==  2]\n",
    "newsub = subarray.select_subarray(sc_tels, name=\"SCTels\")\n",
    "newsub.info()"
   ]
  },
  {
   "cell_type": "markdown",
   "metadata": {},
   "source": [
    "can also do this by using `Table.group_by`"
   ]
  },
  {
   "cell_type": "markdown",
   "metadata": {},
   "source": [
    "## Explore some of the details of the telescopes"
   ]
  },
  {
   "cell_type": "code",
   "execution_count": 6,
   "metadata": {
    "execution": {
     "iopub.execute_input": "2022-04-22T10:14:02.425033Z",
     "iopub.status.busy": "2022-04-22T10:14:02.424782Z",
     "iopub.status.idle": "2022-04-22T10:14:02.432421Z",
     "shell.execute_reply": "2022-04-22T10:14:02.431427Z"
    }
   },
   "outputs": [
    {
     "data": {
      "text/plain": [
       "TelescopeDescription(type=LST, name=LST, optics=LST, camera=LSTCam)"
      ]
     },
     "execution_count": 6,
     "metadata": {},
     "output_type": "execute_result"
    }
   ],
   "source": [
    "tel = subarray.tel[1]\n",
    "tel"
   ]
  },
  {
   "cell_type": "code",
   "execution_count": 7,
   "metadata": {
    "execution": {
     "iopub.execute_input": "2022-04-22T10:14:02.436362Z",
     "iopub.status.busy": "2022-04-22T10:14:02.436151Z",
     "iopub.status.idle": "2022-04-22T10:14:02.447514Z",
     "shell.execute_reply": "2022-04-22T10:14:02.446742Z"
    }
   },
   "outputs": [
    {
     "data": {
      "text/latex": [
       "$386.73325 \\; \\mathrm{m^{2}}$"
      ],
      "text/plain": [
       "<Quantity 386.73324585 m2>"
      ]
     },
     "execution_count": 7,
     "metadata": {},
     "output_type": "execute_result"
    }
   ],
   "source": [
    "tel.optics.mirror_area"
   ]
  },
  {
   "cell_type": "code",
   "execution_count": 8,
   "metadata": {
    "execution": {
     "iopub.execute_input": "2022-04-22T10:14:02.451657Z",
     "iopub.status.busy": "2022-04-22T10:14:02.451419Z",
     "iopub.status.idle": "2022-04-22T10:14:02.458785Z",
     "shell.execute_reply": "2022-04-22T10:14:02.458020Z"
    }
   },
   "outputs": [
    {
     "data": {
      "text/plain": [
       "198"
      ]
     },
     "execution_count": 8,
     "metadata": {},
     "output_type": "execute_result"
    }
   ],
   "source": [
    "tel.optics.num_mirror_tiles"
   ]
  },
  {
   "cell_type": "code",
   "execution_count": 9,
   "metadata": {
    "execution": {
     "iopub.execute_input": "2022-04-22T10:14:02.463051Z",
     "iopub.status.busy": "2022-04-22T10:14:02.462800Z",
     "iopub.status.idle": "2022-04-22T10:14:02.474788Z",
     "shell.execute_reply": "2022-04-22T10:14:02.470127Z"
    }
   },
   "outputs": [
    {
     "data": {
      "text/latex": [
       "$28 \\; \\mathrm{m}$"
      ],
      "text/plain": [
       "<Quantity 28. m>"
      ]
     },
     "execution_count": 9,
     "metadata": {},
     "output_type": "execute_result"
    }
   ],
   "source": [
    "tel.optics.equivalent_focal_length"
   ]
  },
  {
   "cell_type": "code",
   "execution_count": 10,
   "metadata": {
    "execution": {
     "iopub.execute_input": "2022-04-22T10:14:02.480271Z",
     "iopub.status.busy": "2022-04-22T10:14:02.479588Z",
     "iopub.status.idle": "2022-04-22T10:14:02.487565Z",
     "shell.execute_reply": "2022-04-22T10:14:02.486808Z"
    }
   },
   "outputs": [
    {
     "data": {
      "text/plain": [
       "CameraDescription(camera_name=LSTCam, geometry=LSTCam, readout=LSTCam)"
      ]
     },
     "execution_count": 10,
     "metadata": {},
     "output_type": "execute_result"
    }
   ],
   "source": [
    "tel.camera"
   ]
  },
  {
   "cell_type": "code",
   "execution_count": 11,
   "metadata": {
    "execution": {
     "iopub.execute_input": "2022-04-22T10:14:02.491812Z",
     "iopub.status.busy": "2022-04-22T10:14:02.491586Z",
     "iopub.status.idle": "2022-04-22T10:14:02.500664Z",
     "shell.execute_reply": "2022-04-22T10:14:02.499249Z"
    }
   },
   "outputs": [
    {
     "data": {
      "text/latex": [
       "$[0,~-0.0094487737,~-0.047244198,~\\dots,~-0.6519913,~-0.6141959,~-0.62364468] \\; \\mathrm{m}$"
      ],
      "text/plain": [
       "<Quantity [ 0.        , -0.00944877, -0.0472442 , ..., -0.6519913 ,\n",
       "           -0.6141959 , -0.62364468] m>"
      ]
     },
     "execution_count": 11,
     "metadata": {},
     "output_type": "execute_result"
    }
   ],
   "source": [
    "tel.camera.geometry.pix_x"
   ]
  },
  {
   "cell_type": "code",
   "execution_count": 12,
   "metadata": {
    "execution": {
     "iopub.execute_input": "2022-04-22T10:14:02.504816Z",
     "iopub.status.busy": "2022-04-22T10:14:02.504580Z",
     "iopub.status.idle": "2022-04-22T10:14:03.998193Z",
     "shell.execute_reply": "2022-04-22T10:14:03.997024Z"
    }
   },
   "outputs": [
    {
     "data": {
      "text/plain": [
       "<ctapipe.visualization.mpl_camera.CameraDisplay at 0x7f7668df3310>"
      ]
     },
     "execution_count": 12,
     "metadata": {},
     "output_type": "execute_result"
    },
    {
     "data": {
      "image/png": "[encoded data removed]",
      "text/plain": [
       "<Figure size 432x288 with 1 Axes>"
      ]
     },
     "metadata": {
      "needs_background": "light"
     },
     "output_type": "display_data"
    }
   ],
   "source": [
    "%matplotlib inline\n",
    "from ctapipe.visualization import CameraDisplay\n",
    "CameraDisplay(tel.camera.geometry)"
   ]
  },
  {
   "cell_type": "code",
   "execution_count": 13,
   "metadata": {
    "execution": {
     "iopub.execute_input": "2022-04-22T10:14:04.003527Z",
     "iopub.status.busy": "2022-04-22T10:14:04.003316Z",
     "iopub.status.idle": "2022-04-22T10:14:04.677892Z",
     "shell.execute_reply": "2022-04-22T10:14:04.677137Z"
    }
   },
   "outputs": [
    {
     "data": {
      "text/plain": [
       "<ctapipe.visualization.mpl_camera.CameraDisplay at 0x7f7673c34c70>"
      ]
     },
     "execution_count": 13,
     "metadata": {},
     "output_type": "execute_result"
    },
    {
     "data": {
      "image/png": "[encoded data removed]",
      "text/plain": [
       "<Figure size 432x288 with 1 Axes>"
      ]
     },
     "metadata": {
      "needs_background": "light"
     },
     "output_type": "display_data"
    }
   ],
   "source": [
    "CameraDisplay(subarray.tel[98].camera.geometry)"
   ]
  },
  {
   "cell_type": "markdown",
   "metadata": {},
   "source": [
    "## Plot the subarray\n",
    "\n",
    "We'll make a subarray by telescope type and plot each separately, so they appear in different colors.  We also calculate the radius using the mirror area (and exagerate it a bit).\n",
    "\n",
    "This is just for debugging and info, for any \"real\" use, a `visualization.ArrayDisplay` should be used"
   ]
  },
  {
   "cell_type": "code",
   "execution_count": 14,
   "metadata": {
    "execution": {
     "iopub.execute_input": "2022-04-22T10:14:04.682134Z",
     "iopub.status.busy": "2022-04-22T10:14:04.681908Z",
     "iopub.status.idle": "2022-04-22T10:14:05.519752Z",
     "shell.execute_reply": "2022-04-22T10:14:05.518998Z"
    }
   },
   "outputs": [
    {
     "data": {
      "image/png": "[encoded data removed]",
      "text/plain": [
       "<Figure size 576x576 with 1 Axes>"
      ]
     },
     "metadata": {
      "needs_background": "light"
     },
     "output_type": "display_data"
    }
   ],
   "source": [
    "subarray.peek()"
   ]
  },
  {
   "cell_type": "code",
   "execution_count": 15,
   "metadata": {
    "execution": {
     "iopub.execute_input": "2022-04-22T10:14:05.523690Z",
     "iopub.status.busy": "2022-04-22T10:14:05.523495Z",
     "iopub.status.idle": "2022-04-22T10:14:05.531856Z",
     "shell.execute_reply": "2022-04-22T10:14:05.531071Z"
    }
   },
   "outputs": [
    {
     "data": {
      "text/latex": [
       "$4.9235437 \\; \\mathrm{km^{2}}$"
      ],
      "text/plain": [
       "<Quantity 4.92354368 km2>"
      ]
     },
     "execution_count": 15,
     "metadata": {},
     "output_type": "execute_result"
    }
   ],
   "source": [
    "subarray.footprint"
   ]
  },
  {
   "cell_type": "markdown",
   "metadata": {},
   "source": [
    "## Get info about the subarray in general"
   ]
  },
  {
   "cell_type": "code",
   "execution_count": 16,
   "metadata": {
    "execution": {
     "iopub.execute_input": "2022-04-22T10:14:05.535429Z",
     "iopub.status.busy": "2022-04-22T10:14:05.535244Z",
     "iopub.status.idle": "2022-04-22T10:14:05.542302Z",
     "shell.execute_reply": "2022-04-22T10:14:05.541541Z"
    }
   },
   "outputs": [
    {
     "data": {
      "text/plain": [
       "[TelescopeDescription(type=LST, name=LST, optics=LST, camera=LSTCam),\n",
       " TelescopeDescription(type=MST, name=MST, optics=MST, camera=FlashCam),\n",
       " TelescopeDescription(type=SST, name=ASTRI, optics=ASTRI, camera=ASTRICam)]"
      ]
     },
     "execution_count": 16,
     "metadata": {},
     "output_type": "execute_result"
    }
   ],
   "source": [
    "subarray.telescope_types"
   ]
  },
  {
   "cell_type": "code",
   "execution_count": 17,
   "metadata": {
    "execution": {
     "iopub.execute_input": "2022-04-22T10:14:05.546069Z",
     "iopub.status.busy": "2022-04-22T10:14:05.545861Z",
     "iopub.status.idle": "2022-04-22T10:14:05.553271Z",
     "shell.execute_reply": "2022-04-22T10:14:05.552513Z"
    }
   },
   "outputs": [
    {
     "data": {
      "text/plain": [
       "[CameraDescription(camera_name=FlashCam, geometry=FlashCam, readout=FlashCam),\n",
       " CameraDescription(camera_name=ASTRICam, geometry=ASTRICam, readout=ASTRICam),\n",
       " CameraDescription(camera_name=LSTCam, geometry=LSTCam, readout=LSTCam)]"
      ]
     },
     "execution_count": 17,
     "metadata": {},
     "output_type": "execute_result"
    }
   ],
   "source": [
    "subarray.camera_types"
   ]
  },
  {
   "cell_type": "code",
   "execution_count": 18,
   "metadata": {
    "execution": {
     "iopub.execute_input": "2022-04-22T10:14:05.556975Z",
     "iopub.status.busy": "2022-04-22T10:14:05.556748Z",
     "iopub.status.idle": "2022-04-22T10:14:05.565052Z",
     "shell.execute_reply": "2022-04-22T10:14:05.564283Z"
    }
   },
   "outputs": [
    {
     "data": {
      "text/plain": [
       "[OpticsDescription(name=MST, equivalent_focal_length=16.00 m, num_mirrors=1, mirror_area=103.83 m2),\n",
       " OpticsDescription(name=ASTRI, equivalent_focal_length=2.15 m, num_mirrors=2, mirror_area=14.56 m2),\n",
       " OpticsDescription(name=LST, equivalent_focal_length=28.00 m, num_mirrors=1, mirror_area=386.73 m2)]"
      ]
     },
     "execution_count": 18,
     "metadata": {},
     "output_type": "execute_result"
    }
   ],
   "source": [
    "subarray.optics_types"
   ]
  },
  {
   "cell_type": "code",
   "execution_count": 19,
   "metadata": {
    "execution": {
     "iopub.execute_input": "2022-04-22T10:14:05.569101Z",
     "iopub.status.busy": "2022-04-22T10:14:05.568871Z",
     "iopub.status.idle": "2022-04-22T10:14:05.599313Z",
     "shell.execute_reply": "2022-04-22T10:14:05.595028Z"
    }
   },
   "outputs": [
    {
     "data": {
      "text/latex": [
       "[$95^\\circ38{}^\\prime18.00148086{}^{\\prime\\prime}$\n",
       " $117^\\circ35{}^\\prime31.27302433{}^{\\prime\\prime}$\n",
       " $15^\\circ56{}^\\prime32.52698026{}^{\\prime\\prime}$\n",
       " $166^\\circ24{}^\\prime15.7253012{}^{\\prime\\prime}$\n",
       " $90^\\circ00{}^\\prime00{}^{\\prime\\prime}$\n",
       " $78^\\circ42{}^\\prime54.16815351{}^{\\prime\\prime}$\n",
       " $101^\\circ17{}^\\prime05.83184649{}^{\\prime\\prime}$\n",
       " $16^\\circ19{}^\\prime25.41596944{}^{\\prime\\prime}$\n",
       " $38^\\circ42{}^\\prime43.34925204{}^{\\prime\\prime}$\n",
       " $138^\\circ18{}^\\prime26.2816408{}^{\\prime\\prime}$\n",
       " $160^\\circ45{}^\\prime08.60655268{}^{\\prime\\prime}$\n",
       " $45^\\circ50{}^\\prime11.58180769{}^{\\prime\\prime}$\n",
       " $68^\\circ26{}^\\prime09.42492861{}^{\\prime\\prime}$\n",
       " $11^\\circ27{}^\\prime33.95564116{}^{\\prime\\prime}$\n",
       " $111^\\circ33{}^\\prime50.57507139{}^{\\prime\\prime}$\n",
       " $134^\\circ09{}^\\prime48.41819231{}^{\\prime\\prime}$\n",
       " $168^\\circ32{}^\\prime26.04435884{}^{\\prime\\prime}$\n",
       " $78^\\circ41{}^\\prime43.72807471{}^{\\prime\\prime}$\n",
       " $101^\\circ18{}^\\prime16.27192529{}^{\\prime\\prime}$\n",
       " $16^\\circ02{}^\\prime24.20158042{}^{\\prime\\prime}$\n",
       " $38^\\circ36{}^\\prime32.84913188{}^{\\prime\\prime}$\n",
       " $141^\\circ23{}^\\prime27.15086812{}^{\\prime\\prime}$\n",
       " $163^\\circ57{}^\\prime35.79841958{}^{\\prime\\prime}$\n",
       " $45^\\circ48{}^\\prime42.20493911{}^{\\prime\\prime}$\n",
       " $68^\\circ25{}^\\prime33.02273995{}^{\\prime\\prime}$\n",
       " $11^\\circ21{}^\\prime07.59158637{}^{\\prime\\prime}$\n",
       " $111^\\circ34{}^\\prime26.97726005{}^{\\prime\\prime}$\n",
       " $134^\\circ11{}^\\prime17.79506089{}^{\\prime\\prime}$\n",
       " $168^\\circ38{}^\\prime52.40841363{}^{\\prime\\prime}$\n",
       " $49^\\circ01{}^\\prime53.88209151{}^{\\prime\\prime}$\n",
       " $130^\\circ58{}^\\prime06.11790849{}^{\\prime\\prime}$\n",
       " $153^\\circ34{}^\\prime33.89607713{}^{\\prime\\prime}$\n",
       " $57^\\circ29{}^\\prime13.31292386{}^{\\prime\\prime}$\n",
       " $80^\\circ06{}^\\prime19.07824957{}^{\\prime\\prime}$\n",
       " $99^\\circ53{}^\\prime40.92175043{}^{\\prime\\prime}$\n",
       " $122^\\circ30{}^\\prime46.68707614{}^{\\prime\\prime}$\n",
       " $1^\\circ21{}^\\prime19.767395{}^{\\prime\\prime}$\n",
       " $23^\\circ51{}^\\prime29.09114511{}^{\\prime\\prime}$\n",
       " $156^\\circ08{}^\\prime30.90885489{}^{\\prime\\prime}$\n",
       " $178^\\circ38{}^\\prime40.232605{}^{\\prime\\prime}$\n",
       " $78^\\circ41{}^\\prime26.15149805{}^{\\prime\\prime}$\n",
       " $101^\\circ18{}^\\prime33.84850195{}^{\\prime\\prime}$\n",
       " $34^\\circ34{}^\\prime02.39137677{}^{\\prime\\prime}$\n",
       " $57^\\circ11{}^\\prime07.33168189{}^{\\prime\\prime}$\n",
       " $122^\\circ48{}^\\prime52.66831811{}^{\\prime\\prime}$\n",
       " $145^\\circ25{}^\\prime57.60862323{}^{\\prime\\prime}$\n",
       " $15^\\circ57{}^\\prime57.37624672{}^{\\prime\\prime}$\n",
       " $38^\\circ34{}^\\prime56.93351141{}^{\\prime\\prime}$\n",
       " $141^\\circ25{}^\\prime03.06648859{}^{\\prime\\prime}$\n",
       " $164^\\circ02{}^\\prime02.62375328{}^{\\prime\\prime}$\n",
       " $78^\\circ41{}^\\prime25.22810173{}^{\\prime\\prime}$\n",
       " $101^\\circ18{}^\\prime34.77189827{}^{\\prime\\prime}$\n",
       " $11^\\circ18{}^\\prime54.92436156{}^{\\prime\\prime}$\n",
       " $168^\\circ41{}^\\prime05.07563844{}^{\\prime\\prime}$\n",
       " $45^\\circ48{}^\\prime11.26179707{}^{\\prime\\prime}$\n",
       " $68^\\circ25{}^\\prime20.46124877{}^{\\prime\\prime}$\n",
       " $111^\\circ34{}^\\prime39.53875123{}^{\\prime\\prime}$\n",
       " $134^\\circ11{}^\\prime48.73820293{}^{\\prime\\prime}$\n",
       " $63^\\circ12{}^\\prime03.82140047{}^{\\prime\\prime}$\n",
       " $85^\\circ49{}^\\prime13.70626482{}^{\\prime\\prime}$\n",
       " $29^\\circ21{}^\\prime33.48064028{}^{\\prime\\prime}$\n",
       " $51^\\circ58{}^\\prime41.62927485{}^{\\prime\\prime}$\n",
       " $3^\\circ09{}^\\prime32.00022804{}^{\\prime\\prime}$\n",
       " $25^\\circ45{}^\\prime53.65643251{}^{\\prime\\prime}$\n",
       " $94^\\circ10{}^\\prime46.29373518{}^{\\prime\\prime}$\n",
       " $116^\\circ47{}^\\prime56.17859953{}^{\\prime\\prime}$\n",
       " $128^\\circ01{}^\\prime18.37072515{}^{\\prime\\prime}$\n",
       " $150^\\circ38{}^\\prime26.51935972{}^{\\prime\\prime}$\n",
       " $154^\\circ14{}^\\prime06.34356749{}^{\\prime\\prime}$\n",
       " $176^\\circ50{}^\\prime27.99977196{}^{\\prime\\prime}$\n",
       " $78^\\circ41{}^\\prime24.82136926{}^{\\prime\\prime}$\n",
       " $101^\\circ18{}^\\prime35.17863074{}^{\\prime\\prime}$\n",
       " $15^\\circ57{}^\\prime47.41407165{}^{\\prime\\prime}$\n",
       " $38^\\circ34{}^\\prime53.48248332{}^{\\prime\\prime}$\n",
       " $141^\\circ25{}^\\prime06.51751668{}^{\\prime\\prime}$\n",
       " $164^\\circ02{}^\\prime12.58592835{}^{\\prime\\prime}$\n",
       " $11^\\circ18{}^\\prime46.40953986{}^{\\prime\\prime}$\n",
       " $168^\\circ41{}^\\prime13.59046014{}^{\\prime\\prime}$\n",
       " $52^\\circ49{}^\\prime06.0104884{}^{\\prime\\prime}$\n",
       " $75^\\circ26{}^\\prime16.42056571{}^{\\prime\\prime}$\n",
       " $38^\\circ57{}^\\prime04.26530019{}^{\\prime\\prime}$\n",
       " $61^\\circ34{}^\\prime14.31046822{}^{\\prime\\prime}$\n",
       " $104^\\circ33{}^\\prime43.57943429{}^{\\prime\\prime}$\n",
       " $127^\\circ10{}^\\prime53.9895116{}^{\\prime\\prime}$\n",
       " $118^\\circ25{}^\\prime45.68953178{}^{\\prime\\prime}$\n",
       " $141^\\circ02{}^\\prime55.73469981{}^{\\prime\\prime}$\n",
       " $66^\\circ31{}^\\prime35.8563378{}^{\\prime\\prime}$\n",
       " $89^\\circ08{}^\\prime46.531159{}^{\\prime\\prime}$\n",
       " $26^\\circ24{}^\\prime12.85346442{}^{\\prime\\prime}$\n",
       " $49^\\circ01{}^\\prime22.34800835{}^{\\prime\\prime}$\n",
       " $90^\\circ51{}^\\prime13.468841{}^{\\prime\\prime}$\n",
       " $113^\\circ28{}^\\prime24.1436622{}^{\\prime\\prime}$\n",
       " $130^\\circ58{}^\\prime37.65199165{}^{\\prime\\prime}$\n",
       " $153^\\circ35{}^\\prime47.14653558{}^{\\prime\\prime}$\n",
       " $5^\\circ52{}^\\prime51.91477485{}^{\\prime\\prime}$\n",
       " $28^\\circ29{}^\\prime50.48159858{}^{\\prime\\prime}$\n",
       " $151^\\circ30{}^\\prime09.51840142{}^{\\prime\\prime}$\n",
       " $174^\\circ07{}^\\prime08.08522515{}^{\\prime\\prime}$]"
      ],
      "text/plain": [
       "<Angle [ 95.63833374, 117.59202028,  15.94236861, 166.40436814,\n",
       "         90.        ,  78.71504671, 101.28495329,  16.32372666,\n",
       "         38.71204146, 138.30730046, 160.75239071,  45.8365505 ,\n",
       "         68.43595137,  11.45943212, 111.56404863, 134.1634495 ,\n",
       "        168.54056788,  78.69548002, 101.30451998,  16.04005599,\n",
       "         38.60912476, 141.39087524, 163.95994401,  45.81172359,\n",
       "         68.42583965,  11.35210877, 111.57416035, 134.18827641,\n",
       "        168.64789123,  49.03163391, 130.96836609, 153.57608224,\n",
       "         57.48703137,  80.10529951,  99.89470049, 122.51296863,\n",
       "          1.35549094,  23.85808087, 156.14191913, 178.64450906,\n",
       "         78.69059764, 101.30940236,  34.56733094,  57.18536991,\n",
       "        122.81463009, 145.43266906,  15.96593785,  38.58248153,\n",
       "        141.41751847, 164.03406215,  78.69034114, 101.30965886,\n",
       "         11.31525677, 168.68474323,  45.80312828,  68.42235035,\n",
       "        111.57764965, 134.19687172,  63.2010615 ,  85.82047396,\n",
       "         29.35930018,  51.97823035,   3.15888895,  25.76490456,\n",
       "         94.17952604, 116.7989385 , 128.02176965, 150.64069982,\n",
       "        154.23509544, 176.84111105,  78.69022816, 101.30977184,\n",
       "         15.96317058,  38.58152291, 141.41847709, 164.03682942,\n",
       "         11.31289154, 168.68710846,  52.81833625,  75.4378946 ,\n",
       "         38.95118481,  61.5706418 , 104.5621054 , 127.18166375,\n",
       "        118.4293582 , 141.04881519,  66.52662676,  89.14625866,\n",
       "         26.40357041,  49.02287445,  90.85374134, 113.47337324,\n",
       "        130.97712555, 153.59642959,   5.88108744,  28.497356  ,\n",
       "        151.502644  , 174.11891256] deg>"
      ]
     },
     "execution_count": 19,
     "metadata": {},
     "output_type": "execute_result"
    }
   ],
   "source": [
    "from astropy.coordinates import SkyCoord\n",
    "from ctapipe.coordinates import GroundFrame\n",
    "center = SkyCoord(\"10.0 m\", \"2.0 m\", \"0.0 m\", frame='groundframe')\n",
    "coords = subarray.tel_coords  # a flat list of coordinates by tel_index\n",
    "coords.separation(center)"
   ]
  },
  {
   "cell_type": "markdown",
   "metadata": {},
   "source": [
    "## Telescope IDs vs Indices\n",
    "\n",
    "Note that `subarray.tel` is a dict mapped by `tel_id` (the indentifying number of a telescope).  It is  possible to have telescope IDs that do not start at 0, are not contiguouous (e.g. if a subarray is selected).  Some functions and properties like `tel_coords` are numpy arrays (not dicts) so they are not mapped to the telescope ID, but rather the *index* within this SubarrayDescription. To convert between the two concepts you can do:"
   ]
  },
  {
   "cell_type": "code",
   "execution_count": 20,
   "metadata": {
    "execution": {
     "iopub.execute_input": "2022-04-22T10:14:05.603017Z",
     "iopub.status.busy": "2022-04-22T10:14:05.602785Z",
     "iopub.status.idle": "2022-04-22T10:14:05.615991Z",
     "shell.execute_reply": "2022-04-22T10:14:05.615284Z"
    }
   },
   "outputs": [
    {
     "data": {
      "text/plain": [
       "array([ 0,  4, 22])"
      ]
     },
     "execution_count": 20,
     "metadata": {},
     "output_type": "execute_result"
    }
   ],
   "source": [
    "subarray.tel_ids_to_indices([1,5,23])"
   ]
  },
  {
   "cell_type": "markdown",
   "metadata": {},
   "source": [
    "or you can get the indexing array directly in numpy or dict form:"
   ]
  },
  {
   "cell_type": "code",
   "execution_count": 21,
   "metadata": {
    "execution": {
     "iopub.execute_input": "2022-04-22T10:14:05.620005Z",
     "iopub.status.busy": "2022-04-22T10:14:05.619749Z",
     "iopub.status.idle": "2022-04-22T10:14:05.626876Z",
     "shell.execute_reply": "2022-04-22T10:14:05.626179Z"
    }
   },
   "outputs": [
    {
     "data": {
      "text/plain": [
       "array([-1,  0,  1,  2,  3,  4,  5,  6,  7,  8,  9, 10, 11, 12, 13, 14, 15,\n",
       "       16, 17, 18, 19, 20, 21, 22, 23, 24, 25, 26, 27, 28, 29, 30, 31, 32,\n",
       "       33, 34, 35, 36, 37, 38, 39, 40, 41, 42, 43, 44, 45, 46, 47, 48, 49,\n",
       "       50, 51, 52, 53, 54, 55, 56, 57, 58, 59, 60, 61, 62, 63, 64, 65, 66,\n",
       "       67, 68, 69, 70, 71, 72, 73, 74, 75, 76, 77, 78, 79, 80, 81, 82, 83,\n",
       "       84, 85, 86, 87, 88, 89, 90, 91, 92, 93, 94, 95, 96, 97])"
      ]
     },
     "execution_count": 21,
     "metadata": {},
     "output_type": "execute_result"
    }
   ],
   "source": [
    "subarray.tel_index_array"
   ]
  },
  {
   "cell_type": "code",
   "execution_count": 22,
   "metadata": {
    "execution": {
     "iopub.execute_input": "2022-04-22T10:14:05.630496Z",
     "iopub.status.busy": "2022-04-22T10:14:05.630297Z",
     "iopub.status.idle": "2022-04-22T10:14:05.637571Z",
     "shell.execute_reply": "2022-04-22T10:14:05.636789Z"
    }
   },
   "outputs": [
    {
     "data": {
      "text/plain": [
       "array([ 0,  4, 22])"
      ]
     },
     "execution_count": 22,
     "metadata": {},
     "output_type": "execute_result"
    }
   ],
   "source": [
    "subarray.tel_index_array[[1,5,23]]"
   ]
  },
  {
   "cell_type": "code",
   "execution_count": 23,
   "metadata": {
    "execution": {
     "iopub.execute_input": "2022-04-22T10:14:05.641572Z",
     "iopub.status.busy": "2022-04-22T10:14:05.641388Z",
     "iopub.status.idle": "2022-04-22T10:14:05.647995Z",
     "shell.execute_reply": "2022-04-22T10:14:05.647279Z"
    }
   },
   "outputs": [
    {
     "data": {
      "text/plain": [
       "0"
      ]
     },
     "execution_count": 23,
     "metadata": {},
     "output_type": "execute_result"
    }
   ],
   "source": [
    "subarray.tel_indices[1]  # this is a dict of tel_id -> tel_index, so we can only do one at once"
   ]
  },
  {
   "cell_type": "code",
   "execution_count": 24,
   "metadata": {
    "execution": {
     "iopub.execute_input": "2022-04-22T10:14:05.651268Z",
     "iopub.status.busy": "2022-04-22T10:14:05.651062Z",
     "iopub.status.idle": "2022-04-22T10:14:05.658244Z",
     "shell.execute_reply": "2022-04-22T10:14:05.657510Z"
    }
   },
   "outputs": [
    {
     "data": {
      "text/plain": [
       "[1, 2, 3, 4]"
      ]
     },
     "execution_count": 24,
     "metadata": {},
     "output_type": "execute_result"
    }
   ],
   "source": [
    "ids = subarray.get_tel_ids_for_type(subarray.telescope_types[0])\n",
    "ids"
   ]
  },
  {
   "cell_type": "code",
   "execution_count": 25,
   "metadata": {
    "execution": {
     "iopub.execute_input": "2022-04-22T10:14:05.661719Z",
     "iopub.status.busy": "2022-04-22T10:14:05.661533Z",
     "iopub.status.idle": "2022-04-22T10:14:05.668575Z",
     "shell.execute_reply": "2022-04-22T10:14:05.667866Z"
    }
   },
   "outputs": [
    {
     "data": {
      "text/plain": [
       "array([0, 1, 2, 3])"
      ]
     },
     "execution_count": 25,
     "metadata": {},
     "output_type": "execute_result"
    }
   ],
   "source": [
    "idx = subarray.tel_ids_to_indices(ids)\n",
    "idx"
   ]
  },
  {
   "cell_type": "code",
   "execution_count": 26,
   "metadata": {
    "execution": {
     "iopub.execute_input": "2022-04-22T10:14:05.672281Z",
     "iopub.status.busy": "2022-04-22T10:14:05.672069Z",
     "iopub.status.idle": "2022-04-22T10:14:05.680304Z",
     "shell.execute_reply": "2022-04-22T10:14:05.679299Z"
    }
   },
   "outputs": [
    {
     "data": {
      "text/plain": [
       "<SkyCoord (GroundFrame): (x, y, z) in m\n",
       "    [( -20.,  65., 16.), ( -20., -65., 16.), (  80.,   0., 16.),\n",
       "     (-120.,   0., 16.)]>"
      ]
     },
     "execution_count": 26,
     "metadata": {},
     "output_type": "execute_result"
    }
   ],
   "source": [
    "subarray.tel_coords[idx]"
   ]
  },
  {
   "cell_type": "markdown",
   "metadata": {},
   "source": [
    "so, with that method you can quickly get many telescope positions at once (the alternative is to use the dict `positions` which maps `tel_id` to a position on the ground"
   ]
  },
  {
   "cell_type": "code",
   "execution_count": 27,
   "metadata": {
    "execution": {
     "iopub.execute_input": "2022-04-22T10:14:05.683716Z",
     "iopub.status.busy": "2022-04-22T10:14:05.683531Z",
     "iopub.status.idle": "2022-04-22T10:14:05.691449Z",
     "shell.execute_reply": "2022-04-22T10:14:05.690657Z"
    }
   },
   "outputs": [
    {
     "data": {
      "text/latex": [
       "$[-20,~65,~16] \\; \\mathrm{m}$"
      ],
      "text/plain": [
       "<Quantity [-20.,  65.,  16.] m>"
      ]
     },
     "execution_count": 27,
     "metadata": {},
     "output_type": "execute_result"
    }
   ],
   "source": [
    "subarray.positions[1]"
   ]
  }
 ],
 "metadata": {
  "kernelspec": {
   "display_name": "Python 3",
   "language": "python",
   "name": "python3"
  },
  "language_info": {
   "codemirror_mode": {
    "name": "ipython",
    "version": 3
   },
   "file_extension": ".py",
   "mimetype": "text/x-python",
   "name": "python",
   "nbconvert_exporter": "python",
   "pygments_lexer": "ipython3",
   "version": "3.8.12"
  },
  "widgets": {
   "application/vnd.jupyter.widget-state+json": {
    "state": {
     "12684d833f3b4c7fa13ac6aac1540df7": {
      "model_module": "@jupyter-widgets/base",
      "model_module_version": "1.2.0",
      "model_name": "LayoutModel",
      "state": {
       "_model_module": "@jupyter-widgets/base",
       "_model_module_version": "1.2.0",
       "_model_name": "LayoutModel",
       "_view_count": null,
       "_view_module": "@jupyter-widgets/base",
       "_view_module_version": "1.2.0",
       "_view_name": "LayoutView",
       "align_content": null,
       "align_items": null,
       "align_self": null,
       "border": null,
       "bottom": null,
       "display": null,
       "flex": null,
       "flex_flow": null,
       "grid_area": null,
       "grid_auto_columns": null,
       "grid_auto_flow": null,
       "grid_auto_rows": null,
       "grid_column": null,
       "grid_gap": null,
       "grid_row": null,
       "grid_template_areas": null,
       "grid_template_columns": null,
       "grid_template_rows": null,
       "height": null,
       "justify_content": null,
       "justify_items": null,
       "left": null,
       "margin": null,
       "max_height": null,
       "max_width": null,
       "min_height": null,
       "min_width": null,
       "object_fit": null,
       "object_position": null,
       "order": null,
       "overflow": null,
       "overflow_x": null,
       "overflow_y": null,
       "padding": null,
       "right": null,
       "top": null,
       "visibility": null,
       "width": null
      }
     },
     "2d3725ddde4d4be98980f367880dc277": {
      "model_module": "@jupyter-widgets/controls",
      "model_module_version": "1.5.0",
      "model_name": "HTMLModel",
      "state": {
       "_dom_classes": [],
       "_model_module": "@jupyter-widgets/controls",
       "_model_module_version": "1.5.0",
       "_model_name": "HTMLModel",
       "_view_count": null,
       "_view_module": "@jupyter-widgets/controls",
       "_view_module_version": "1.5.0",
       "_view_name": "HTMLView",
       "description": "",
       "description_tooltip": null,
       "layout": "IPY_MODEL_eca49a1760eb402e99d2c6e871286f41",
       "placeholder": "​",
       "style": "IPY_MODEL_f017041823884809b29f6ec8907a2236",
       "value": " 41.7M/41.7M [00:13&lt;00:00, 3.17MB/s]"
      }
     },
     "4fa5e3ca06274dadbe79dd3cb8eae85c": {
      "model_module": "@jupyter-widgets/controls",
      "model_module_version": "1.5.0",
      "model_name": "FloatProgressModel",
      "state": {
       "_dom_classes": [],
       "_model_module": "@jupyter-widgets/controls",
       "_model_module_version": "1.5.0",
       "_model_name": "FloatProgressModel",
       "_view_count": null,
       "_view_module": "@jupyter-widgets/controls",
       "_view_module_version": "1.5.0",
       "_view_name": "ProgressView",
       "bar_style": "success",
       "description": "",
       "description_tooltip": null,
       "layout": "IPY_MODEL_e381e07883514bb2938df09efaea68c5",
       "max": 41658433.0,
       "min": 0.0,
       "orientation": "horizontal",
       "style": "IPY_MODEL_74560f2e45e4434f8472d52c47761111",
       "value": 41658433.0
      }
     },
     "74560f2e45e4434f8472d52c47761111": {
      "model_module": "@jupyter-widgets/controls",
      "model_module_version": "1.5.0",
      "model_name": "ProgressStyleModel",
      "state": {
       "_model_module": "@jupyter-widgets/controls",
       "_model_module_version": "1.5.0",
       "_model_name": "ProgressStyleModel",
       "_view_count": null,
       "_view_module": "@jupyter-widgets/base",
       "_view_module_version": "1.2.0",
       "_view_name": "StyleView",
       "bar_color": null,
       "description_width": ""
      }
     },
     "a38bf6ebff1c40cd9c3e5f92e8433d3b": {
      "model_module": "@jupyter-widgets/base",
      "model_module_version": "1.2.0",
      "model_name": "LayoutModel",
      "state": {
       "_model_module": "@jupyter-widgets/base",
       "_model_module_version": "1.2.0",
       "_model_name": "LayoutModel",
       "_view_count": null,
       "_view_module": "@jupyter-widgets/base",
       "_view_module_version": "1.2.0",
       "_view_name": "LayoutView",
       "align_content": null,
       "align_items": null,
       "align_self": null,
       "border": null,
       "bottom": null,
       "display": null,
       "flex": null,
       "flex_flow": null,
       "grid_area": null,
       "grid_auto_columns": null,
       "grid_auto_flow": null,
       "grid_auto_rows": null,
       "grid_column": null,
       "grid_gap": null,
       "grid_row": null,
       "grid_template_areas": null,
       "grid_template_columns": null,
       "grid_template_rows": null,
       "height": null,
       "justify_content": null,
       "justify_items": null,
       "left": null,
       "margin": null,
       "max_height": null,
       "max_width": null,
       "min_height": null,
       "min_width": null,
       "object_fit": null,
       "object_position": null,
       "order": null,
       "overflow": null,
       "overflow_x": null,
       "overflow_y": null,
       "padding": null,
       "right": null,
       "top": null,
       "visibility": null,
       "width": null
      }
     },
     "c5d48383493c43eaa4e5b845d156e2d6": {
      "model_module": "@jupyter-widgets/controls",
      "model_module_version": "1.5.0",
      "model_name": "DescriptionStyleModel",
      "state": {
       "_model_module": "@jupyter-widgets/controls",
       "_model_module_version": "1.5.0",
       "_model_name": "DescriptionStyleModel",
       "_view_count": null,
       "_view_module": "@jupyter-widgets/base",
       "_view_module_version": "1.2.0",
       "_view_name": "StyleView",
       "description_width": ""
      }
     },
     "cd7b47dc89e749768db739c1ea915e41": {
      "model_module": "@jupyter-widgets/controls",
      "model_module_version": "1.5.0",
      "model_name": "HBoxModel",
      "state": {
       "_dom_classes": [],
       "_model_module": "@jupyter-widgets/controls",
       "_model_module_version": "1.5.0",
       "_model_name": "HBoxModel",
       "_view_count": null,
       "_view_module": "@jupyter-widgets/controls",
       "_view_module_version": "1.5.0",
       "_view_name": "HBoxView",
       "box_style": "",
       "children": [
        "IPY_MODEL_d564c4a9cc7b4de893b8eafbf617527d",
        "IPY_MODEL_4fa5e3ca06274dadbe79dd3cb8eae85c",
        "IPY_MODEL_2d3725ddde4d4be98980f367880dc277"
       ],
       "layout": "IPY_MODEL_12684d833f3b4c7fa13ac6aac1540df7"
      }
     },
     "d564c4a9cc7b4de893b8eafbf617527d": {
      "model_module": "@jupyter-widgets/controls",
      "model_module_version": "1.5.0",
      "model_name": "HTMLModel",
      "state": {
       "_dom_classes": [],
       "_model_module": "@jupyter-widgets/controls",
       "_model_module_version": "1.5.0",
       "_model_name": "HTMLModel",
       "_view_count": null,
       "_view_module": "@jupyter-widgets/controls",
       "_view_module_version": "1.5.0",
       "_view_name": "HTMLView",
       "description": "",
       "description_tooltip": null,
       "layout": "IPY_MODEL_a38bf6ebff1c40cd9c3e5f92e8433d3b",
       "placeholder": "​",
       "style": "IPY_MODEL_c5d48383493c43eaa4e5b845d156e2d6",
       "value": "Downloading gamma_test_large.simtel.gz: 100%"
      }
     },
     "e381e07883514bb2938df09efaea68c5": {
      "model_module": "@jupyter-widgets/base",
      "model_module_version": "1.2.0",
      "model_name": "LayoutModel",
      "state": {
       "_model_module": "@jupyter-widgets/base",
       "_model_module_version": "1.2.0",
       "_model_name": "LayoutModel",
       "_view_count": null,
       "_view_module": "@jupyter-widgets/base",
       "_view_module_version": "1.2.0",
       "_view_name": "LayoutView",
       "align_content": null,
       "align_items": null,
       "align_self": null,
       "border": null,
       "bottom": null,
       "display": null,
       "flex": null,
       "flex_flow": null,
       "grid_area": null,
       "grid_auto_columns": null,
       "grid_auto_flow": null,
       "grid_auto_rows": null,
       "grid_column": null,
       "grid_gap": null,
       "grid_row": null,
       "grid_template_areas": null,
       "grid_template_columns": null,
       "grid_template_rows": null,
       "height": null,
       "justify_content": null,
       "justify_items": null,
       "left": null,
       "margin": null,
       "max_height": null,
       "max_width": null,
       "min_height": null,
       "min_width": null,
       "object_fit": null,
       "object_position": null,
       "order": null,
       "overflow": null,
       "overflow_x": null,
       "overflow_y": null,
       "padding": null,
       "right": null,
       "top": null,
       "visibility": null,
       "width": null
      }
     },
     "eca49a1760eb402e99d2c6e871286f41": {
      "model_module": "@jupyter-widgets/base",
      "model_module_version": "1.2.0",
      "model_name": "LayoutModel",
      "state": {
       "_model_module": "@jupyter-widgets/base",
       "_model_module_version": "1.2.0",
       "_model_name": "LayoutModel",
       "_view_count": null,
       "_view_module": "@jupyter-widgets/base",
       "_view_module_version": "1.2.0",
       "_view_name": "LayoutView",
       "align_content": null,
       "align_items": null,
       "align_self": null,
       "border": null,
       "bottom": null,
       "display": null,
       "flex": null,
       "flex_flow": null,
       "grid_area": null,
       "grid_auto_columns": null,
       "grid_auto_flow": null,
       "grid_auto_rows": null,
       "grid_column": null,
       "grid_gap": null,
       "grid_row": null,
       "grid_template_areas": null,
       "grid_template_columns": null,
       "grid_template_rows": null,
       "height": null,
       "justify_content": null,
       "justify_items": null,
       "left": null,
       "margin": null,
       "max_height": null,
       "max_width": null,
       "min_height": null,
       "min_width": null,
       "object_fit": null,
       "object_position": null,
       "order": null,
       "overflow": null,
       "overflow_x": null,
       "overflow_y": null,
       "padding": null,
       "right": null,
       "top": null,
       "visibility": null,
       "width": null
      }
     },
     "f017041823884809b29f6ec8907a2236": {
      "model_module": "@jupyter-widgets/controls",
      "model_module_version": "1.5.0",
      "model_name": "DescriptionStyleModel",
      "state": {
       "_model_module": "@jupyter-widgets/controls",
       "_model_module_version": "1.5.0",
       "_model_name": "DescriptionStyleModel",
       "_view_count": null,
       "_view_module": "@jupyter-widgets/base",
       "_view_module_version": "1.2.0",
       "_view_name": "StyleView",
       "description_width": ""
      }
     }
    },
    "version_major": 2,
    "version_minor": 0
   }
  }
 },
 "nbformat": 4,
 "nbformat_minor": 2
}
