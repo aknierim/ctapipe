{
 "cells": [
  {
   "cell_type": "markdown",
   "metadata": {},
   "source": [
    "# Convert camera images to pixels on a s square grid"
   ]
  },
  {
   "cell_type": "code",
   "execution_count": 1,
   "metadata": {
    "execution": {
     "iopub.execute_input": "2022-04-22T10:14:43.609004Z",
     "iopub.status.busy": "2022-04-22T10:14:43.608524Z",
     "iopub.status.idle": "2022-04-22T10:14:48.924957Z",
     "shell.execute_reply": "2022-04-22T10:14:48.924049Z"
    }
   },
   "outputs": [],
   "source": [
    "from ctapipe.utils import get_dataset_path\n",
    "from ctapipe.visualization import CameraDisplay\n",
    "from ctapipe.instrument import CameraGeometry\n",
    "from ctapipe.io import EventSource\n",
    "from ctapipe.image.toymodel import Gaussian\n",
    "import matplotlib.pyplot as plt\n",
    "import astropy.units as u"
   ]
  },
  {
   "cell_type": "markdown",
   "metadata": {},
   "source": [
    "## Geometries with square pixels\n",
    "\n",
    "Define a camera geometry and generate a dummy image:"
   ]
  },
  {
   "cell_type": "code",
   "execution_count": 2,
   "metadata": {
    "execution": {
     "iopub.execute_input": "2022-04-22T10:14:48.929402Z",
     "iopub.status.busy": "2022-04-22T10:14:48.928766Z",
     "iopub.status.idle": "2022-04-22T10:14:49.351147Z",
     "shell.execute_reply": "2022-04-22T10:14:49.350153Z"
    }
   },
   "outputs": [
    {
     "data": {
      "application/vnd.jupyter.widget-view+json": {
       "model_id": "bd4dfb77beea42fabfd871674d27844c",
       "version_major": 2,
       "version_minor": 0
      },
      "text/plain": [
       "Downloading CHEC.camgeom.fits.gz:   0%|          | 0.00/9.55k [00:00<?, ?B/s]"
      ]
     },
     "metadata": {},
     "output_type": "display_data"
    }
   ],
   "source": [
    "geom = CameraGeometry.from_name('CHEC')\n",
    "model = Gaussian(\n",
    "        x=0.05*u.m,\n",
    "        y=0.05*u.m,\n",
    "        width=0.01*u.m,\n",
    "        length=0.05*u.m,\n",
    "        psi='30d',\n",
    "    )\n",
    "_, image, _ = model.generate_image(\n",
    "    geom, intensity=500, nsb_level_pe=3\n",
    ")"
   ]
  },
  {
   "cell_type": "code",
   "execution_count": 3,
   "metadata": {
    "execution": {
     "iopub.execute_input": "2022-04-22T10:14:49.355571Z",
     "iopub.status.busy": "2022-04-22T10:14:49.355313Z",
     "iopub.status.idle": "2022-04-22T10:14:49.828571Z",
     "shell.execute_reply": "2022-04-22T10:14:49.827973Z"
    }
   },
   "outputs": [
    {
     "data": {
      "text/plain": [
       "<ctapipe.visualization.mpl_camera.CameraDisplay at 0x7ff64ada58b0>"
      ]
     },
     "execution_count": 3,
     "metadata": {},
     "output_type": "execute_result"
    }
   ],
   "source": [
    "\n",
    "CameraDisplay(geom, image)"
   ]
  },
  {
   "cell_type": "markdown",
   "metadata": {},
   "source": [
    "The `CameraGeometry` has functions to convert the 1d image arrays to 2d arrays and back to the 1d array:"
   ]
  },
  {
   "cell_type": "code",
   "execution_count": 4,
   "metadata": {
    "execution": {
     "iopub.execute_input": "2022-04-22T10:14:49.832447Z",
     "iopub.status.busy": "2022-04-22T10:14:49.832045Z",
     "iopub.status.idle": "2022-04-22T10:14:49.836870Z",
     "shell.execute_reply": "2022-04-22T10:14:49.836296Z"
    }
   },
   "outputs": [],
   "source": [
    "image_square = geom.image_to_cartesian_representation(image)"
   ]
  },
  {
   "cell_type": "code",
   "execution_count": 5,
   "metadata": {
    "execution": {
     "iopub.execute_input": "2022-04-22T10:14:49.840384Z",
     "iopub.status.busy": "2022-04-22T10:14:49.839980Z",
     "iopub.status.idle": "2022-04-22T10:14:49.846332Z",
     "shell.execute_reply": "2022-04-22T10:14:49.845770Z"
    }
   },
   "outputs": [
    {
     "data": {
      "text/plain": [
       "<matplotlib.image.AxesImage at 0x7ff64abb7e50>"
      ]
     },
     "execution_count": 5,
     "metadata": {},
     "output_type": "execute_result"
    }
   ],
   "source": [
    "plt.imshow(image_square)"
   ]
  },
  {
   "cell_type": "code",
   "execution_count": 6,
   "metadata": {
    "execution": {
     "iopub.execute_input": "2022-04-22T10:14:49.850640Z",
     "iopub.status.busy": "2022-04-22T10:14:49.849488Z",
     "iopub.status.idle": "2022-04-22T10:14:49.854993Z",
     "shell.execute_reply": "2022-04-22T10:14:49.853323Z"
    }
   },
   "outputs": [],
   "source": [
    "image_1d = geom.image_from_cartesian_representation(image_square)"
   ]
  },
  {
   "cell_type": "code",
   "execution_count": 7,
   "metadata": {
    "execution": {
     "iopub.execute_input": "2022-04-22T10:14:49.858188Z",
     "iopub.status.busy": "2022-04-22T10:14:49.857835Z",
     "iopub.status.idle": "2022-04-22T10:14:50.234751Z",
     "shell.execute_reply": "2022-04-22T10:14:50.233930Z"
    }
   },
   "outputs": [
    {
     "data": {
      "text/plain": [
       "<ctapipe.visualization.mpl_camera.CameraDisplay at 0x7ff64aba9e20>"
      ]
     },
     "execution_count": 7,
     "metadata": {},
     "output_type": "execute_result"
    }
   ],
   "source": [
    "CameraDisplay(geom, image_1d)"
   ]
  },
  {
   "cell_type": "markdown",
   "metadata": {},
   "source": [
    "## Geometries with hexagonal pixels\n",
    "\n",
    "Define a camera geometry and generate a dummy image:"
   ]
  },
  {
   "cell_type": "code",
   "execution_count": 8,
   "metadata": {
    "execution": {
     "iopub.execute_input": "2022-04-22T10:14:50.238748Z",
     "iopub.status.busy": "2022-04-22T10:14:50.238507Z",
     "iopub.status.idle": "2022-04-22T10:14:50.259852Z",
     "shell.execute_reply": "2022-04-22T10:14:50.259019Z"
    }
   },
   "outputs": [],
   "source": [
    "geom = CameraGeometry.from_name('LSTCam')\n",
    "model = Gaussian(\n",
    "        x=0.5*u.m,\n",
    "        y=0.5*u.m,\n",
    "        width=0.1*u.m,\n",
    "        length=0.2*u.m,\n",
    "        psi='30d',\n",
    "    )\n",
    "_, image, _ = model.generate_image(\n",
    "    geom, intensity=5000\n",
    ")"
   ]
  },
  {
   "cell_type": "code",
   "execution_count": 9,
   "metadata": {
    "execution": {
     "iopub.execute_input": "2022-04-22T10:14:50.263744Z",
     "iopub.status.busy": "2022-04-22T10:14:50.263295Z",
     "iopub.status.idle": "2022-04-22T10:14:50.766152Z",
     "shell.execute_reply": "2022-04-22T10:14:50.765310Z"
    }
   },
   "outputs": [
    {
     "data": {
      "text/plain": [
       "<ctapipe.visualization.mpl_camera.CameraDisplay at 0x7ff64ab23820>"
      ]
     },
     "execution_count": 9,
     "metadata": {},
     "output_type": "execute_result"
    }
   ],
   "source": [
    "CameraDisplay(geom, image)"
   ]
  },
  {
   "cell_type": "code",
   "execution_count": 10,
   "metadata": {
    "execution": {
     "iopub.execute_input": "2022-04-22T10:14:50.769883Z",
     "iopub.status.busy": "2022-04-22T10:14:50.769553Z",
     "iopub.status.idle": "2022-04-22T10:14:50.778308Z",
     "shell.execute_reply": "2022-04-22T10:14:50.777545Z"
    }
   },
   "outputs": [],
   "source": [
    "image_square = geom.image_to_cartesian_representation(image)"
   ]
  },
  {
   "cell_type": "markdown",
   "metadata": {},
   "source": [
    "## Conversion into square geometry\n",
    "\n",
    "Since the resulting array has square pixels, the pixel grid has to be rotated and distorted.\n",
    "This is reversible (The `image_from_cartesian_representation` method takes care of this):"
   ]
  },
  {
   "cell_type": "code",
   "execution_count": 11,
   "metadata": {
    "execution": {
     "iopub.execute_input": "2022-04-22T10:14:50.781695Z",
     "iopub.status.busy": "2022-04-22T10:14:50.781354Z",
     "iopub.status.idle": "2022-04-22T10:14:50.787985Z",
     "shell.execute_reply": "2022-04-22T10:14:50.787231Z"
    }
   },
   "outputs": [
    {
     "data": {
      "text/plain": [
       "<matplotlib.image.AxesImage at 0x7ff64a9bf100>"
      ]
     },
     "execution_count": 11,
     "metadata": {},
     "output_type": "execute_result"
    }
   ],
   "source": [
    "plt.imshow(image_square)"
   ]
  },
  {
   "cell_type": "code",
   "execution_count": 12,
   "metadata": {
    "execution": {
     "iopub.execute_input": "2022-04-22T10:14:50.791670Z",
     "iopub.status.busy": "2022-04-22T10:14:50.790765Z",
     "iopub.status.idle": "2022-04-22T10:14:50.796596Z",
     "shell.execute_reply": "2022-04-22T10:14:50.795779Z"
    }
   },
   "outputs": [],
   "source": [
    "image_1d = geom.image_from_cartesian_representation(image_square)"
   ]
  },
  {
   "cell_type": "code",
   "execution_count": 13,
   "metadata": {
    "execution": {
     "iopub.execute_input": "2022-04-22T10:14:50.802362Z",
     "iopub.status.busy": "2022-04-22T10:14:50.802143Z",
     "iopub.status.idle": "2022-04-22T10:14:51.196444Z",
     "shell.execute_reply": "2022-04-22T10:14:51.195551Z"
    }
   },
   "outputs": [],
   "source": [
    "disp = CameraDisplay(geom, image_1d)"
   ]
  },
  {
   "cell_type": "code",
   "execution_count": null,
   "metadata": {},
   "outputs": [],
   "source": []
  }
 ],
 "metadata": {
  "kernelspec": {
   "display_name": "Python 3",
   "language": "python",
   "name": "python3"
  },
  "language_info": {
   "codemirror_mode": {
    "name": "ipython",
    "version": 3
   },
   "file_extension": ".py",
   "mimetype": "text/x-python",
   "name": "python",
   "nbconvert_exporter": "python",
   "pygments_lexer": "ipython3",
   "version": "3.8.12"
  },
  "widgets": {
   "application/vnd.jupyter.widget-state+json": {
    "state": {
     "09998669193d460880455da500534a38": {
      "model_module": "@jupyter-widgets/controls",
      "model_module_version": "1.5.0",
      "model_name": "HTMLModel",
      "state": {
       "_dom_classes": [],
       "_model_module": "@jupyter-widgets/controls",
       "_model_module_version": "1.5.0",
       "_model_name": "HTMLModel",
       "_view_count": null,
       "_view_module": "@jupyter-widgets/controls",
       "_view_module_version": "1.5.0",
       "_view_name": "HTMLView",
       "description": "",
       "description_tooltip": null,
       "layout": "IPY_MODEL_2153ebf54f1349e5a42e60279c1e673f",
       "placeholder": "​",
       "style": "IPY_MODEL_df2cbc866aeb468db04328884b26a816",
       "value": "Downloading CHEC.camgeom.fits.gz: 100%"
      }
     },
     "187b8d6f31d8411da6dcd416aa7d1449": {
      "model_module": "@jupyter-widgets/base",
      "model_module_version": "1.2.0",
      "model_name": "LayoutModel",
      "state": {
       "_model_module": "@jupyter-widgets/base",
       "_model_module_version": "1.2.0",
       "_model_name": "LayoutModel",
       "_view_count": null,
       "_view_module": "@jupyter-widgets/base",
       "_view_module_version": "1.2.0",
       "_view_name": "LayoutView",
       "align_content": null,
       "align_items": null,
       "align_self": null,
       "border": null,
       "bottom": null,
       "display": null,
       "flex": null,
       "flex_flow": null,
       "grid_area": null,
       "grid_auto_columns": null,
       "grid_auto_flow": null,
       "grid_auto_rows": null,
       "grid_column": null,
       "grid_gap": null,
       "grid_row": null,
       "grid_template_areas": null,
       "grid_template_columns": null,
       "grid_template_rows": null,
       "height": null,
       "justify_content": null,
       "justify_items": null,
       "left": null,
       "margin": null,
       "max_height": null,
       "max_width": null,
       "min_height": null,
       "min_width": null,
       "object_fit": null,
       "object_position": null,
       "order": null,
       "overflow": null,
       "overflow_x": null,
       "overflow_y": null,
       "padding": null,
       "right": null,
       "top": null,
       "visibility": null,
       "width": null
      }
     },
     "2153ebf54f1349e5a42e60279c1e673f": {
      "model_module": "@jupyter-widgets/base",
      "model_module_version": "1.2.0",
      "model_name": "LayoutModel",
      "state": {
       "_model_module": "@jupyter-widgets/base",
       "_model_module_version": "1.2.0",
       "_model_name": "LayoutModel",
       "_view_count": null,
       "_view_module": "@jupyter-widgets/base",
       "_view_module_version": "1.2.0",
       "_view_name": "LayoutView",
       "align_content": null,
       "align_items": null,
       "align_self": null,
       "border": null,
       "bottom": null,
       "display": null,
       "flex": null,
       "flex_flow": null,
       "grid_area": null,
       "grid_auto_columns": null,
       "grid_auto_flow": null,
       "grid_auto_rows": null,
       "grid_column": null,
       "grid_gap": null,
       "grid_row": null,
       "grid_template_areas": null,
       "grid_template_columns": null,
       "grid_template_rows": null,
       "height": null,
       "justify_content": null,
       "justify_items": null,
       "left": null,
       "margin": null,
       "max_height": null,
       "max_width": null,
       "min_height": null,
       "min_width": null,
       "object_fit": null,
       "object_position": null,
       "order": null,
       "overflow": null,
       "overflow_x": null,
       "overflow_y": null,
       "padding": null,
       "right": null,
       "top": null,
       "visibility": null,
       "width": null
      }
     },
     "30500910c8ce4dc6a6357009228dd28f": {
      "model_module": "@jupyter-widgets/base",
      "model_module_version": "1.2.0",
      "model_name": "LayoutModel",
      "state": {
       "_model_module": "@jupyter-widgets/base",
       "_model_module_version": "1.2.0",
       "_model_name": "LayoutModel",
       "_view_count": null,
       "_view_module": "@jupyter-widgets/base",
       "_view_module_version": "1.2.0",
       "_view_name": "LayoutView",
       "align_content": null,
       "align_items": null,
       "align_self": null,
       "border": null,
       "bottom": null,
       "display": null,
       "flex": null,
       "flex_flow": null,
       "grid_area": null,
       "grid_auto_columns": null,
       "grid_auto_flow": null,
       "grid_auto_rows": null,
       "grid_column": null,
       "grid_gap": null,
       "grid_row": null,
       "grid_template_areas": null,
       "grid_template_columns": null,
       "grid_template_rows": null,
       "height": null,
       "justify_content": null,
       "justify_items": null,
       "left": null,
       "margin": null,
       "max_height": null,
       "max_width": null,
       "min_height": null,
       "min_width": null,
       "object_fit": null,
       "object_position": null,
       "order": null,
       "overflow": null,
       "overflow_x": null,
       "overflow_y": null,
       "padding": null,
       "right": null,
       "top": null,
       "visibility": null,
       "width": null
      }
     },
     "604af8274936405c8023efba2ef99be5": {
      "model_module": "@jupyter-widgets/base",
      "model_module_version": "1.2.0",
      "model_name": "LayoutModel",
      "state": {
       "_model_module": "@jupyter-widgets/base",
       "_model_module_version": "1.2.0",
       "_model_name": "LayoutModel",
       "_view_count": null,
       "_view_module": "@jupyter-widgets/base",
       "_view_module_version": "1.2.0",
       "_view_name": "LayoutView",
       "align_content": null,
       "align_items": null,
       "align_self": null,
       "border": null,
       "bottom": null,
       "display": null,
       "flex": null,
       "flex_flow": null,
       "grid_area": null,
       "grid_auto_columns": null,
       "grid_auto_flow": null,
       "grid_auto_rows": null,
       "grid_column": null,
       "grid_gap": null,
       "grid_row": null,
       "grid_template_areas": null,
       "grid_template_columns": null,
       "grid_template_rows": null,
       "height": null,
       "justify_content": null,
       "justify_items": null,
       "left": null,
       "margin": null,
       "max_height": null,
       "max_width": null,
       "min_height": null,
       "min_width": null,
       "object_fit": null,
       "object_position": null,
       "order": null,
       "overflow": null,
       "overflow_x": null,
       "overflow_y": null,
       "padding": null,
       "right": null,
       "top": null,
       "visibility": null,
       "width": null
      }
     },
     "8c7d8ff1f7b34a96853ee7971c86ec4d": {
      "model_module": "@jupyter-widgets/controls",
      "model_module_version": "1.5.0",
      "model_name": "DescriptionStyleModel",
      "state": {
       "_model_module": "@jupyter-widgets/controls",
       "_model_module_version": "1.5.0",
       "_model_name": "DescriptionStyleModel",
       "_view_count": null,
       "_view_module": "@jupyter-widgets/base",
       "_view_module_version": "1.2.0",
       "_view_name": "StyleView",
       "description_width": ""
      }
     },
     "9b121b68f1544b5e8bff381ac7600ac2": {
      "model_module": "@jupyter-widgets/controls",
      "model_module_version": "1.5.0",
      "model_name": "ProgressStyleModel",
      "state": {
       "_model_module": "@jupyter-widgets/controls",
       "_model_module_version": "1.5.0",
       "_model_name": "ProgressStyleModel",
       "_view_count": null,
       "_view_module": "@jupyter-widgets/base",
       "_view_module_version": "1.2.0",
       "_view_name": "StyleView",
       "bar_color": null,
       "description_width": ""
      }
     },
     "b77a947b8b074982b79e36243f4a2ecf": {
      "model_module": "@jupyter-widgets/controls",
      "model_module_version": "1.5.0",
      "model_name": "HTMLModel",
      "state": {
       "_dom_classes": [],
       "_model_module": "@jupyter-widgets/controls",
       "_model_module_version": "1.5.0",
       "_model_name": "HTMLModel",
       "_view_count": null,
       "_view_module": "@jupyter-widgets/controls",
       "_view_module_version": "1.5.0",
       "_view_name": "HTMLView",
       "description": "",
       "description_tooltip": null,
       "layout": "IPY_MODEL_30500910c8ce4dc6a6357009228dd28f",
       "placeholder": "​",
       "style": "IPY_MODEL_8c7d8ff1f7b34a96853ee7971c86ec4d",
       "value": " 9.55k/9.55k [00:00&lt;00:00, 76.0kB/s]"
      }
     },
     "bd4dfb77beea42fabfd871674d27844c": {
      "model_module": "@jupyter-widgets/controls",
      "model_module_version": "1.5.0",
      "model_name": "HBoxModel",
      "state": {
       "_dom_classes": [],
       "_model_module": "@jupyter-widgets/controls",
       "_model_module_version": "1.5.0",
       "_model_name": "HBoxModel",
       "_view_count": null,
       "_view_module": "@jupyter-widgets/controls",
       "_view_module_version": "1.5.0",
       "_view_name": "HBoxView",
       "box_style": "",
       "children": [
        "IPY_MODEL_09998669193d460880455da500534a38",
        "IPY_MODEL_c4c6ec4b065b43d380f5ffa93a6d51cc",
        "IPY_MODEL_b77a947b8b074982b79e36243f4a2ecf"
       ],
       "layout": "IPY_MODEL_187b8d6f31d8411da6dcd416aa7d1449"
      }
     },
     "c4c6ec4b065b43d380f5ffa93a6d51cc": {
      "model_module": "@jupyter-widgets/controls",
      "model_module_version": "1.5.0",
      "model_name": "FloatProgressModel",
      "state": {
       "_dom_classes": [],
       "_model_module": "@jupyter-widgets/controls",
       "_model_module_version": "1.5.0",
       "_model_name": "FloatProgressModel",
       "_view_count": null,
       "_view_module": "@jupyter-widgets/controls",
       "_view_module_version": "1.5.0",
       "_view_name": "ProgressView",
       "bar_style": "success",
       "description": "",
       "description_tooltip": null,
       "layout": "IPY_MODEL_604af8274936405c8023efba2ef99be5",
       "max": 9555.0,
       "min": 0.0,
       "orientation": "horizontal",
       "style": "IPY_MODEL_9b121b68f1544b5e8bff381ac7600ac2",
       "value": 9555.0
      }
     },
     "df2cbc866aeb468db04328884b26a816": {
      "model_module": "@jupyter-widgets/controls",
      "model_module_version": "1.5.0",
      "model_name": "DescriptionStyleModel",
      "state": {
       "_model_module": "@jupyter-widgets/controls",
       "_model_module_version": "1.5.0",
       "_model_name": "DescriptionStyleModel",
       "_view_count": null,
       "_view_module": "@jupyter-widgets/base",
       "_view_module_version": "1.2.0",
       "_view_name": "StyleView",
       "description_width": ""
      }
     }
    },
    "version_major": 2,
    "version_minor": 0
   }
  }
 },
 "nbformat": 4,
 "nbformat_minor": 4
}
